{
 "cells": [
  {
   "cell_type": "markdown",
   "id": "scientific-wisconsin",
   "metadata": {},
   "source": [
    "# LOGISTIC REGRESSIONS\n",
    "Logistic regression is a statistical method for binary classification that predicts the probability of an event occurring by fitting data to a logistic curve. It is commonly used when the dependent variable is binary—like predicting whether a tumor is benign (class B) or malignant (class M) in medical datasets.\n",
    "\n",
    "**Using Logistic Regression on This Dataset**:\n",
    "**Prepare the Data**: Identify features and the binary target ('diagnosis').\n",
    "\n",
    "**Standardize the Data**: Normalize features to ensure consistent scaling.\n",
    "\n",
    "**Train and Evaluate the Model**: Split the data into training and test sets, train the logistic regression model on the training set, and evaluate its performance using metrics like accuracy and ROC curve.\n",
    "\n",
    "**Prediction**: Use the model to predict malignancy probabilities for new samples.\n",
    "\n",
    "Logistic regression is particularly useful due to its simplicity and effectiveness in providing probabilities for classification outcomes, making it a good choice for initial analysis in medical diagnostics."
   ]
  },
  {
   "cell_type": "code",
   "execution_count": 1,
   "id": "chinese-exchange",
   "metadata": {},
   "outputs": [],
   "source": [
    "#Import all the libraries needed in the project\n",
    "import pandas as pd\n",
    "import numpy as np\n",
    "import matplotlib.pyplot as plt\n",
    "import seaborn as sns\n",
    "import statsmodels.api as sm\n",
    "\n",
    "# Preprocessing\n",
    "from sklearn.preprocessing import StandardScaler\n",
    "\n",
    "# Model Selection\n",
    "from sklearn.model_selection import train_test_split, cross_val_score, KFold, GridSearchCV\n",
    "from sklearn.linear_model import Lasso\n",
    "\n",
    "# Metrics\n",
    "from sklearn.metrics import confusion_matrix, accuracy_score, precision_score\n",
    "from sklearn.metrics import recall_score, f1_score, classification_report\n",
    "from sklearn.metrics import cohen_kappa_score\n",
    "from sklearn.metrics import log_loss\n",
    "from sklearn.metrics import roc_curve, auc\n",
    "from sklearn.metrics import roc_curve, roc_auc_score\n",
    "\n",
    "# Models\n",
    "from sklearn.linear_model import LogisticRegression\n",
    "from sklearn.ensemble import RandomForestClassifier\n",
    "from sklearn.svm import SVC\n",
    "from sklearn.tree import DecisionTreeClassifier\n",
    "from sklearn.neural_network import MLPClassifier\n",
    "from sklearn.model_selection import learning_curve\n",
    "from sklearn.pipeline import make_pipeline\n",
    "\n",
    "# Dimensionality Reduction\n",
    "from sklearn.decomposition import PCA\n",
    "\n",
    "# Clustering\n",
    "from sklearn.cluster import KMeans\n",
    "from sklearn.metrics import silhouette_score"
   ]
  },
  {
   "cell_type": "code",
   "execution_count": 7,
   "id": "caring-frost",
   "metadata": {},
   "outputs": [],
   "source": [
    "#Downloading the data, the training and the test set\n",
    "data = pd.read_csv(\"Data.csv\")\n",
    "data_test = pd.read_csv(\"test_set.csv\") \n",
    "data_train = pd.read_csv(\"train_set.csv\")"
   ]
  },
  {
   "cell_type": "markdown",
   "id": "acoustic-frontier",
   "metadata": {},
   "source": [
    "## Creationn of a validation set"
   ]
  },
  {
   "cell_type": "code",
   "execution_count": 8,
   "id": "piano-health",
   "metadata": {},
   "outputs": [
    {
     "name": "stdout",
     "output_type": "stream",
     "text": [
      "Training set size: (399, 9)\n",
      "Validation set size: (100, 9)\n"
     ]
    }
   ],
   "source": [
    "# Suddivisione del training set in un nuovo training set e un validation set\n",
    "train_data, val_data = train_test_split(data_train, test_size=0.2, random_state=42)\n",
    "\n",
    "# Salvataggio dei nuovi set di dati\n",
    "train_data.to_csv(\"train_set_1.csv\", index=False)\n",
    "val_data.to_csv(\"validation_set.csv\", index=False)\n",
    "\n",
    "# Verifica\n",
    "print(f\"Training set size: {train_data.shape}\")\n",
    "print(f\"Validation set size: {val_data.shape}\")"
   ]
  },
  {
   "cell_type": "code",
   "execution_count": 9,
   "id": "clear-endorsement",
   "metadata": {},
   "outputs": [],
   "source": [
    "data_train_1 = pd.read_csv(\"train_set_1.csv\")\n",
    "data_val = pd.read_csv(\"validation_set.csv\")"
   ]
  },
  {
   "cell_type": "code",
   "execution_count": 10,
   "id": "accurate-snake",
   "metadata": {},
   "outputs": [],
   "source": [
    "# Separazione delle caratteristiche e della variabile target\n",
    "X_train = train_data.drop(columns='diagnosis')\n",
    "y_train = train_data['diagnosis']\n",
    "X_train_1 = train_data.drop(columns='diagnosis')\n",
    "y_train_1 = train_data['diagnosis']\n",
    "X_val = val_data.drop(columns='diagnosis')\n",
    "y_val = val_data['diagnosis']\n",
    "X_test = data_test.drop(columns='diagnosis')\n",
    "y_test = data_test['diagnosis']\n",
    "\n",
    "# Standardizzazione delle caratteristiche\n",
    "scaler = StandardScaler()\n",
    "X_train_scaled = scaler.fit_transform(X_train)\n",
    "X_train_scaled_1 = scaler.fit_transform(X_train_1)\n",
    "X_val_scaled = scaler.transform(X_val)\n",
    "X_test_scaled = scaler.transform(X_test)\n",
    "\n",
    "# Aggiunta di una colonna di costante per il modello di statsmodels\n",
    "X_train_const = sm.add_constant(X_train_scaled)\n",
    "X_train_const_1 = sm.add_constant(X_train_scaled_1)\n",
    "X_val_const = sm.add_constant(X_val_scaled)\n",
    "X_test_const = sm.add_constant(X_test_scaled)"
   ]
  },
  {
   "cell_type": "markdown",
   "id": "occasional-sailing",
   "metadata": {},
   "source": [
    "## First, we will explore a logistic regression model using the training set and the validation set. "
   ]
  },
  {
   "cell_type": "code",
   "execution_count": 11,
   "id": "controlled-earthquake",
   "metadata": {},
   "outputs": [
    {
     "name": "stdout",
     "output_type": "stream",
     "text": [
      "Optimization terminated successfully.\n",
      "         Current function value: 0.171275\n",
      "         Iterations 9\n",
      "                           Logit Regression Results                           \n",
      "==============================================================================\n",
      "Dep. Variable:              diagnosis   No. Observations:                  399\n",
      "Model:                          Logit   Df Residuals:                      390\n",
      "Method:                           MLE   Df Model:                            8\n",
      "Date:                Fri, 24 May 2024   Pseudo R-squ.:                  0.7526\n",
      "Time:                        10:16:18   Log-Likelihood:                -68.339\n",
      "converged:                       True   LL-Null:                       -276.20\n",
      "Covariance Type:            nonrobust   LLR p-value:                 8.071e-85\n",
      "==============================================================================\n",
      "                 coef    std err          z      P>|z|      [0.025      0.975]\n",
      "------------------------------------------------------------------------------\n",
      "const          1.5519      0.357      4.344      0.000       0.852       2.252\n",
      "x1             1.2408      0.254      4.885      0.000       0.743       1.739\n",
      "x2             3.7412      1.090      3.433      0.001       1.605       5.877\n",
      "x3             0.6242      0.477      1.307      0.191      -0.312       1.560\n",
      "x4            -1.2702      0.884     -1.437      0.151      -3.002       0.462\n",
      "x5             1.4652      0.701      2.092      0.036       0.092       2.838\n",
      "x6             2.9136      1.270      2.295      0.022       0.425       5.402\n",
      "x7             0.2437      0.339      0.718      0.473      -0.421       0.909\n",
      "x8            -0.0765      0.634     -0.121      0.904      -1.319       1.166\n",
      "==============================================================================\n",
      "\n",
      "Possibly complete quasi-separation: A fraction 0.15 of observations can be\n",
      "perfectly predicted. This might indicate that there is complete\n",
      "quasi-separation. In this case some parameters will not be identified.\n"
     ]
    }
   ],
   "source": [
    "# Creazione e addestramento del modello di regressione logistica\n",
    "logit_model = sm.Logit(y_train_1, X_train_const_1)\n",
    "result = logit_model.fit()\n",
    "print(result.summary())"
   ]
  },
  {
   "cell_type": "code",
   "execution_count": 12,
   "id": "outer-scanning",
   "metadata": {},
   "outputs": [],
   "source": [
    "# Predizioni sui set di training, validation e test\n",
    "train_pred = result.predict(X_train_const_1)\n",
    "val_pred = result.predict(X_val_const)\n",
    "test_pred = result.predict(X_test_const)"
   ]
  },
  {
   "cell_type": "code",
   "execution_count": 13,
   "id": "conditional-validity",
   "metadata": {},
   "outputs": [],
   "source": [
    "# Conversione delle predizioni in etichette binarie\n",
    "train_pred_label = (train_pred > 0.5).astype(int)\n",
    "val_pred_label = (val_pred > 0.5).astype(int)\n",
    "test_pred_label = (test_pred > 0.5).astype(int)"
   ]
  },
  {
   "cell_type": "code",
   "execution_count": 14,
   "id": "detected-framework",
   "metadata": {},
   "outputs": [],
   "source": [
    "# Calcolo delle metriche principali\n",
    "def print_metrics(y_true, y_pred, dataset_name):\n",
    "    accuracy = accuracy_score(y_true, y_pred)\n",
    "    precision = precision_score(y_true, y_pred)\n",
    "    recall = recall_score(y_true, y_pred)\n",
    "    f1 = f1_score(y_true, y_pred)\n",
    "    roc_auc = roc_auc_score(y_true, y_pred)\n",
    "    conf_matrix = confusion_matrix(y_true, y_pred)\n",
    "    print(f\"{dataset_name} Metrics:\")\n",
    "    print(f\"Accuracy: {accuracy:.4f}\")\n",
    "    print(f\"Precision: {precision:.4f}\")\n",
    "    print(f\"Recall: {recall:.4f}\")\n",
    "    print(f\"F1 Score: {f1:.4f}\")\n",
    "    print(f\"ROC AUC: {roc_auc:.4f}\")\n",
    "    print(f\"Confusion Matrix:\\n{conf_matrix}\\n\")"
   ]
  },
  {
   "cell_type": "code",
   "execution_count": 15,
   "id": "technological-marathon",
   "metadata": {},
   "outputs": [
    {
     "name": "stdout",
     "output_type": "stream",
     "text": [
      "Training Metrics:\n",
      "Accuracy: 0.9248\n",
      "Precision: 0.9305\n",
      "Recall: 0.9110\n",
      "F1 Score: 0.9206\n",
      "ROC AUC: 0.9242\n",
      "Confusion Matrix:\n",
      "[[195  13]\n",
      " [ 17 174]]\n",
      "\n",
      "Validation Metrics:\n",
      "Accuracy: 0.9800\n",
      "Precision: 0.9818\n",
      "Recall: 0.9818\n",
      "F1 Score: 0.9818\n",
      "ROC AUC: 0.9798\n",
      "Confusion Matrix:\n",
      "[[44  1]\n",
      " [ 1 54]]\n",
      "\n",
      "Test Metrics:\n",
      "Accuracy: 0.9256\n",
      "Precision: 0.9060\n",
      "Recall: 0.9550\n",
      "F1 Score: 0.9298\n",
      "ROC AUC: 0.9246\n",
      "Confusion Matrix:\n",
      "[[ 93  11]\n",
      " [  5 106]]\n",
      "\n"
     ]
    }
   ],
   "source": [
    "print_metrics(y_train, train_pred_label, \"Training\")\n",
    "print_metrics(y_val, val_pred_label, \"Validation\")\n",
    "print_metrics(y_test, test_pred_label, \"Test\")"
   ]
  },
  {
   "cell_type": "markdown",
   "id": "congressional-creation",
   "metadata": {},
   "source": [
    "## LASSO and RIDGE regularization"
   ]
  },
  {
   "cell_type": "code",
   "execution_count": 16,
   "id": "endangered-venice",
   "metadata": {},
   "outputs": [],
   "source": [
    "# Tracciamento del grafico dell'accuratezza al variare del parametro di regolarizzazione C\n",
    "train_accuracies = []\n",
    "val_accuracies = []\n",
    "test_accuracies = []\n",
    "C_values = [0.001, 0.01, 0.1, 1, 10, 100]"
   ]
  },
  {
   "cell_type": "code",
   "execution_count": 17,
   "id": "defined-judges",
   "metadata": {},
   "outputs": [],
   "source": [
    "for C in C_values:\n",
    "    lr_model = LogisticRegression(C=C, max_iter=10000)\n",
    "    lr_model.fit(X_train_scaled, y_train)\n",
    "    \n",
    "    train_acc = accuracy_score(y_train, lr_model.predict(X_train_scaled))\n",
    "    val_acc = accuracy_score(y_val, lr_model.predict(X_val_scaled))\n",
    "    test_acc = accuracy_score(y_test, lr_model.predict(X_test_scaled))\n",
    "    \n",
    "    train_accuracies.append(train_acc)\n",
    "    val_accuracies.append(val_acc)\n",
    "    test_accuracies.append(test_acc)"
   ]
  },
  {
   "cell_type": "code",
   "execution_count": 18,
   "id": "desperate-steal",
   "metadata": {},
   "outputs": [
    {
     "data": {
      "image/png": "[encoded data removed]",
      "text/plain": [
       "<Figure size 720x432 with 1 Axes>"
      ]
     },
     "metadata": {
      "needs_background": "light"
     },
     "output_type": "display_data"
    }
   ],
   "source": [
    "plt.figure(figsize=(10, 6))\n",
    "plt.plot(C_values, train_accuracies, label='Training Accuracy')\n",
    "plt.plot(C_values, val_accuracies, label='Validation Accuracy')\n",
    "plt.plot(C_values, test_accuracies, label='Test Accuracy')\n",
    "plt.xscale('log')\n",
    "plt.xlabel('C (Inverse of Regularization Strength)')\n",
    "plt.ylabel('Accuracy')\n",
    "plt.title('Accuracy vs. Regularization Parameter (C)')\n",
    "plt.legend()\n",
    "plt.show()"
   ]
  },
  {
   "cell_type": "markdown",
   "id": "governmental-container",
   "metadata": {},
   "source": [
    "- **Loading the datasets**: The training and validation data are loaded from the files `data_train_1.csv` and `data_val.csv`.\n",
    "- **Separating features and target variable**: The features and the target variable (column `target`) are separated.\n",
    "- **Standardizing the features**: The features are standardized to have a mean of 0 and a standard deviation of 1.\n",
    "- **Creating and training the logistic regression model**: A logistic regression model is created and trained using `statsmodels`.\n",
    "- **Predictions and calculating metrics**: Predictions are made on the training, validation, and test sets, and the main metrics such as accuracy, precision, recall, F1 score, and ROC AUC are calculated.\n",
    "- **Plotting the accuracy graph**: A graph is plotted to show how accuracy varies with the regularization parameter `C`."
   ]
  },
  {
   "cell_type": "markdown",
   "id": "interpreted-likelihood",
   "metadata": {},
   "source": [
    "### Observing the Training Accuracy\n",
    "\n",
    "It's interesting to note that the accuracy on the training set initially increases with \\( C \\), reaches a peak, and then seems to stabilize or even slightly decrease. There are a few possible explanations for this behavior:\n",
    "\n",
    "### Possible Explanations\n",
    "\n",
    "1. **Noise in the Training Data**:\n",
    "   - When the regularization parameter \\( C \\) is very high, the regularization is very weak, allowing the model to fit even the fine details and noise present in the training data. This can lead to a situation where the model starts to capture spurious patterns that do not represent the underlying data well. This excessive fitting to noise can cause a deterioration in training performance as the model fails to clearly distinguish between signal and noise.\n",
    "\n",
    "2. **Extreme Overfitting**:\n",
    "   - In an extreme overfitting regime, the model might start making very specific predictions that are highly accurate for certain subsets of the training data but less accurate overall. This can lead to fluctuations in training performance and, in rare cases, a slight decrease.\n",
    "\n",
    "\n",
    "3. **Stochasticity in Training**:\n",
    "   - Sometimes, fluctuations can be due to the stochastic nature of the optimization algorithm (e.g., gradient descent). Even with a high \\( C \\) value, if the optimization process is noisy, you might see slight fluctuations in performance.\n",
    "\n",
    "4. **Complex Interactions Between Parameters**:\n",
    "   - In complex models, interactions between different hyperparameters (such as the learning rate and \\( C \\)) can affect performance. For example, a very high learning rate combined with a very high \\( C \\) value might cause instability in training.\n",
    "\n",
    "### Can the Training Curve Decline?\n",
    "\n",
    "It is unusual, but not impossible, for the training accuracy curve to decline in the presence of a very high \\( C \\) value. Generally, we would expect training accuracy to increase or stabilize as \\( C \\) increases (less regularization), but due to the reasons mentioned above, there could be cases where the curve slightly declines.\n",
    "\n",
    "### Final Considerations\n",
    "\n",
    "To confirm and better understand this behavior, you might want to conduct further experiments, such as:\n",
    "\n",
    "- **Try Different Learning Rates**: Explore if the learning rate affects this behavior.\n",
    "- **Cross-Validation**: Use cross-validation to ensure performance is consistent across different subsets of the data.\n",
    "- **Analyze Noise in Training Data**: Examine if there are patterns or outliers in the training data that could affect performance.\n",
    "\n",
    "Overall, the behavior observed in the graph is intriguing and may require deeper analysis to be fully understood.\n"
   ]
  },
  {
   "cell_type": "code",
   "execution_count": 22,
   "id": "administrative-level",
   "metadata": {},
   "outputs": [
    {
     "data": {
      "image/png": "[encoded data removed]",
      "text/plain": [
       "<Figure size 720x432 with 1 Axes>"
      ]
     },
     "metadata": {
      "needs_background": "light"
     },
     "output_type": "display_data"
    }
   ],
   "source": [
    "# Tracciamento del grafico dell'accuratezza al variare del parametro di regolarizzazione C con L1\n",
    "train_accuracies = []\n",
    "val_accuracies = []\n",
    "test_accuracies = []\n",
    "C_values = [0.001, 0.01, 0.1, 1, 10, 100]\n",
    "\n",
    "for C in C_values:\n",
    "    lr_model = LogisticRegression(C=C, penalty='l1', solver='liblinear', max_iter=10000)\n",
    "    lr_model.fit(X_train_scaled, y_train)\n",
    "    \n",
    "    train_acc = accuracy_score(y_train, lr_model.predict(X_train_scaled))\n",
    "    val_acc = accuracy_score(y_val, lr_model.predict(X_val_scaled))\n",
    "    test_acc = accuracy_score(y_test, lr_model.predict(X_test_scaled))\n",
    "    \n",
    "    train_accuracies.append(train_acc)\n",
    "    val_accuracies.append(val_acc)\n",
    "    test_accuracies.append(test_acc)\n",
    "\n",
    "plt.figure(figsize=(10, 6))\n",
    "plt.plot(C_values, train_accuracies, label='Training Accuracy')\n",
    "plt.plot(C_values, val_accuracies, label='Validation Accuracy')\n",
    "plt.plot(C_values, test_accuracies, label='Test Accuracy')\n",
    "plt.xscale('log')\n",
    "plt.xlabel('C (Inverse of Regularization Strength)')\n",
    "plt.ylabel('Accuracy')\n",
    "plt.title('Accuracy vs. Regularization Parameter (C)')\n",
    "plt.legend()\n",
    "plt.show()"
   ]
  },
  {
   "cell_type": "markdown",
   "id": "hindu-cholesterol",
   "metadata": {},
   "source": [
    "### Graph Interpretation\n",
    "\n",
    "The graph shows how accuracy varies with the regularization parameter \\( C \\):\n",
    "\n",
    "- **Training Accuracy (Blue Line)**: Increases rapidly with \\( C \\), then stabilizes.\n",
    "- **Validation Accuracy (Orange Line)**: Increases similarly, peaks, and then plateaus slightly above training accuracy.\n",
    "- **Test Accuracy (Green Line)**: Follows the validation trend, slightly lower.\n",
    "\n",
    "**Conclusion**:\n",
    "- **Low \\( C \\)**: Underfitting, low accuracy.\n",
    "- **Intermediate \\( C \\)**: Best accuracy, optimal balance between bias and variance.\n",
    "- **High \\( C \\)**: Potential overfitting, stable or slightly decreasing validation and test accuracy."
   ]
  },
  {
   "cell_type": "markdown",
   "id": "fresh-thread",
   "metadata": {},
   "source": []
  }
 ],
 "metadata": {
  "kernelspec": {
   "display_name": "Python 3",
   "language": "python",
   "name": "python3"
  },
  "language_info": {
   "codemirror_mode": {
    "name": "ipython",
    "version": 3
   },
   "file_extension": ".py",
   "mimetype": "text/x-python",
   "name": "python",
   "nbconvert_exporter": "python",
   "pygments_lexer": "ipython3",
   "version": "3.8.5"
  }
 },
 "nbformat": 4,
 "nbformat_minor": 5
}
