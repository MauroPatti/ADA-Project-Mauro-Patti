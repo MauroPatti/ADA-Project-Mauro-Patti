{
 "cells": [
  {
   "cell_type": "markdown",
   "id": "racial-lending",
   "metadata": {},
   "source": [
    "# Classification Images in black and white (MASK) with CNN model using pytoch\n",
    "\n",
    "# The results in this code was good"
   ]
  },
  {
   "cell_type": "markdown",
   "id": "focal-survey",
   "metadata": {},
   "source": [
    "### Pytorch\n",
    "PyTorch is a popular open-source deep learning framework developed by Facebook's AI Research lab (FAIR). It provides a flexible and intuitive interface for building and training neural networks. With PyTorch, users can easily create computational graphs dynamically, enabling more efficient model development and experimentation. It also offers seamless integration with GPUs for accelerated computation, making it suitable for both research and production-level machine learning tasks. PyTorch's extensive library includes modules for building various types of neural networks, optimization algorithms, and utilities for data loading and preprocessing. "
   ]
  },
  {
   "cell_type": "code",
   "execution_count": 4,
   "id": "infinite-auction",
   "metadata": {},
   "outputs": [],
   "source": [
    "#Import all the libraries needed in the project\n",
    "import pandas as pd\n",
    "import numpy as np\n",
    "import matplotlib.pyplot as plt\n",
    "import seaborn as sns\n",
    "import os\n",
    "import cv2\n",
    "import shutil\n",
    "import random\n",
    "import tensorflow as tf\n",
    "import torch\n",
    "#import statsmodels.api as sm\n",
    "\n",
    "# Preprocessing\n",
    "from sklearn.preprocessing import StandardScaler\n",
    "\n",
    "# Model Selection\n",
    "from sklearn.model_selection import train_test_split, cross_val_score, KFold, GridSearchCV\n",
    "\n",
    "# Metrics\n",
    "from sklearn.metrics import confusion_matrix, accuracy_score, precision_score\n",
    "from sklearn.metrics import recall_score, f1_score, classification_report\n",
    "from sklearn.metrics import cohen_kappa_score\n",
    "from sklearn.metrics import log_loss\n",
    "from sklearn.metrics import roc_curve, auc\n",
    "\n",
    "# Models\n",
    "from sklearn.linear_model import LogisticRegression\n",
    "from sklearn.ensemble import RandomForestClassifier\n",
    "from sklearn.svm import SVC\n",
    "from sklearn.tree import DecisionTreeClassifier\n",
    "from sklearn.neural_network import MLPClassifier\n",
    "from sklearn.model_selection import learning_curve\n",
    "from sklearn.pipeline import make_pipeline\n",
    "'''# Dimensionality Reduction\n",
    "from sklearn.decomposition import PCA\n",
    "\n",
    "# Clustering\n",
    "from sklearn.cluster import KMeans\n",
    "from sklearn.metrics import silhouette_score\n",
    "\n",
    "#Import tensorflow libraries\n",
    "from tensorflow.keras.preprocessing.image import ImageDataGenerator\n",
    "from tensorflow.keras.applications import VGG16\n",
    "from tensorflow.keras.models import Sequential\n",
    "from tensorflow.keras.layers import Dense, Flatten, Dropout\n",
    "from tensorflow.keras.optimizers import Adam\n",
    "'''\n",
    "#Import torch libraries\n",
    "import torch.nn as nn\n",
    "import torch.optim as optim\n",
    "from torchvision import datasets, transforms\n",
    "from torch.utils.data import DataLoader"
   ]
  },
  {
   "cell_type": "code",
   "execution_count": 8,
   "id": "centered-bruce",
   "metadata": {},
   "outputs": [],
   "source": [
    "# Imposta il seed per PyTorch per rendere i risultati riproducibili\n",
    "seed = 87\n",
    "torch.manual_seed(seed)\n",
    "torch.cuda.manual_seed(seed) if torch.cuda.is_available() else None\n",
    "\n",
    "# Imposta il seed per NumPy per rendere i risultati riproducibili\n",
    "np.random.seed(seed)\n",
    "\n",
    "# Imposta il seed per la libreria random di Python per rendere i risultati riproducibili\n",
    "random.seed(seed)"
   ]
  },
  {
   "cell_type": "code",
   "execution_count": 5,
   "id": "academic-farming",
   "metadata": {},
   "outputs": [],
   "source": [
    "# defining images dimensions\n",
    "img_height = 512\n",
    "img_width = 512\n",
    "batch_size = 15"
   ]
  },
  {
   "cell_type": "code",
   "execution_count": 6,
   "id": "silent-entertainment",
   "metadata": {},
   "outputs": [],
   "source": [
    "# Trasforming images of validation and training sets\n",
    "train_transforms = transforms.Compose([\n",
    "    transforms.Resize((img_height, img_width)),\n",
    "    transforms.Grayscale(),\n",
    "    transforms.RandomRotation(20),\n",
    "    transforms.RandomHorizontalFlip(),\n",
    "    transforms.RandomVerticalFlip(),\n",
    "    transforms.ToTensor(),\n",
    "    transforms.Normalize(mean=[0.5], std=[0.5])\n",
    "])\n",
    "\n",
    "val_test_transforms = transforms.Compose([\n",
    "    transforms.Resize((img_height, img_width)),\n",
    "    transforms.Grayscale(),\n",
    "    transforms.ToTensor(),\n",
    "    transforms.Normalize(mean=[0.5], std=[0.5])\n",
    "])\n",
    "\n",
    "# Uploading dataset\n",
    "train_dataset = datasets.ImageFolder(root='dataset/train', transform=train_transforms)\n",
    "val_dataset = datasets.ImageFolder(root='dataset/val', transform=val_test_transforms)\n",
    "test_dataset = datasets.ImageFolder(root='dataset/test', transform=val_test_transforms)\n",
    "\n",
    "train_loader = DataLoader(train_dataset, batch_size=batch_size, shuffle=True)\n",
    "val_loader = DataLoader(val_dataset, batch_size=batch_size, shuffle=False)\n",
    "test_loader = DataLoader(test_dataset, batch_size=batch_size, shuffle=False)"
   ]
  },
  {
   "cell_type": "markdown",
   "id": "second-collection",
   "metadata": {},
   "source": [
    "This code defines the transformations to be applied to images in the training set and the validation/test set before being used for training or evaluating the deep learning model. Here's an explanation of the transformations:\n",
    "\n",
    "- `transforms.Resize((img_height, img_width))`: Resizes the images to the specified dimensions `img_height` for height and `img_width` for width.\n",
    "\n",
    "- `transforms.Grayscale()`: Converts the images to grayscale. This reduces the number of channels in the image from 3 (RGB) to 1 (grayscale).\n",
    "\n",
    "- `transforms.RandomRotation(20)`: Randomly rotates the image by a maximum angle of 20 degrees clockwise or counterclockwise.\n",
    "\n",
    "- `transforms.RandomHorizontalFlip()`: Applies a random horizontal flip transformation to the image with a probability of 50%.\n",
    "\n",
    "- `transforms.RandomVerticalFlip()`: Applies a random vertical flip transformation to the image with a probability of 50%.\n",
    "\n",
    "- `transforms.ToTensor()`: Converts the image to a PyTorch tensor.\n",
    "\n",
    "- `transforms.Normalize(mean=[0.5], std=[0.5])`: Normalizes the pixel values of the image by subtracting the mean [0.5] and dividing by the standard deviation [0.5].\n",
    "\n",
    "The transformations for the validation/test set are similar, but they do not include random rotation and flip transformations, as we want to evaluate the model on unmodified images."
   ]
  },
  {
   "cell_type": "code",
   "execution_count": 6,
   "id": "dress-verification",
   "metadata": {},
   "outputs": [],
   "source": [
    "# Definition of CNN\n",
    "class SimpleCNN(nn.Module):\n",
    "    def __init__(self):\n",
    "        super(SimpleCNN, self).__init__()\n",
    "        self.conv1 = nn.Conv2d(1, 32, kernel_size=3, padding=1)\n",
    "        self.pool = nn.MaxPool2d(kernel_size=2, stride=2, padding=0)\n",
    "        self.conv2 = nn.Conv2d(32, 64, kernel_size=3, padding=1)\n",
    "        self.conv3 = nn.Conv2d(64, 128, kernel_size=3, padding=1)\n",
    "        self.conv4 = nn.Conv2d(128, 256, kernel_size=3, padding=1)\n",
    "        self.fc1 = nn.Linear(256 * (img_height // 16) * (img_width // 16), 512)\n",
    "        self.fc2 = nn.Linear(512, 128)\n",
    "        self.fc3 = nn.Linear(128, 1)\n",
    "    \n",
    "    def forward(self, x):\n",
    "        x = self.pool(torch.relu(self.conv1(x)))\n",
    "        x = self.pool(torch.relu(self.conv2(x)))\n",
    "        x = self.pool(torch.relu(self.conv3(x)))\n",
    "        x = self.pool(torch.relu(self.conv4(x)))\n",
    "        x = x.view(-1, 256 * (img_height // 16) * (img_width // 16))\n",
    "        x = torch.relu(self.fc1(x))\n",
    "        x = torch.relu(self.fc2(x))\n",
    "        x = torch.sigmoid(self.fc3(x))\n",
    "        return x"
   ]
  },
  {
   "cell_type": "markdown",
   "id": "blond-athens",
   "metadata": {},
   "source": [
    "This code defines a simple Convolutional Neural Network (CNN) architecture in PyTorch for binary classification. Here's an explanation of each part of the code:\n",
    "\n",
    "- **SimpleCNN(nn.Module)**: Defines a `SimpleCNN` class that inherits from the `nn.Module` class, the base class for all PyTorch models.\n",
    "\n",
    "- **__init__(self)**: Called when an object of the `SimpleCNN` class is instantiated. Within this method, all the layers of the neural network are defined and initialized.\n",
    "\n",
    "- **self.conv1**: First convolutional layer that takes grayscale images (1 channel) as input and produces 32 output feature maps. It uses a 3x3 kernel with padding of 1.\n",
    "\n",
    "- **self.pool**: Max pooling layer with a pooling window size of 2x2 and a stride of 2. This reduces the size of the input feature maps.\n",
    "\n",
    "- **self.conv2**: Second convolutional layer that takes the feature maps produced by the first layer (32 feature maps) as input and produces 64 output feature maps.\n",
    "\n",
    "- **self.conv3**: Third convolutional layer that takes the feature maps produced by the second layer (64 feature maps) as input and produces 128 output feature maps.\n",
    "\n",
    "- **self.conv4**: Fourth convolutional layer that takes the feature maps produced by the third layer (128 feature maps) as input and produces 256 output feature maps.\n",
    "\n",
    "- **self.fc1**: First fully connected layer that takes the flattened feature map vector as input and returns a vector of size 512.\n",
    "\n",
    "- **self.fc2**: Second fully connected layer that takes the 512-dimensional vector produced by the first fully connected layer as input and returns a vector of size 128.\n",
    "\n",
    "- **self.fc3**: Third fully connected layer that takes the 128-dimensional vector produced by the second fully connected layer as input and returns a single output value (1) using the sigmoid activation function.\n",
    "\n",
    "- **forward(self, x)**: Defines the flow of data through the neural network. It takes x, representing the input image, and passes it through the various layers of the network in sequence.\n",
    "\n",
    "The code uses the *ReLU* activation function for the convolutional layers and the first two fully connected layers, and the sigmoid activation function for the final fully connected layer, as it is a binary classification task.\n",
    "The network defined is moderate size, comprising a total of four convolutional layers followed by three fully connected layers."
   ]
  },
  {
   "cell_type": "code",
   "execution_count": 7,
   "id": "included-bicycle",
   "metadata": {},
   "outputs": [],
   "source": [
    "\n",
    "model = SimpleCNN()\n",
    "criterion = nn.BCELoss()\n",
    "optimizer = optim.Adam(model.parameters(), lr=0.001)\n"
   ]
  },
  {
   "cell_type": "markdown",
   "id": "failing-zambia",
   "metadata": {},
   "source": [
    "**SimpleCNN**: The variable model is initialized as an instance of the SimpleCNN class, which represents the convolutional neural network architecture defined earlier. It's called \"simple\" because it's a straightforward architecture without too many complexities.\n",
    "\n",
    "**nn.BCELoss()**: This is the binary cross-entropy loss function provided by PyTorch's neural network module (nn). It's commonly used for binary classification tasks, where the model outputs a single scalar value representing the probability of the positive class. BCE stands for Binary Cross-Entropy.\n",
    "\n",
    "**optim.Adam(model.parameters()**, **lr=0.001)**: This line initializes the Adam optimizer, which is a popular optimization algorithm used for training neural networks. It's called on the parameters of the model, meaning it will update the weights of the network during training to minimize the loss. lr=0.001 sets the learning rate to 0.001, which controls the step size of the optimizer."
   ]
  },
  {
   "cell_type": "code",
   "execution_count": 8,
   "id": "helpful-layer",
   "metadata": {},
   "outputs": [],
   "source": [
    "#Function for training the model\n",
    "def train_model(model, train_loader, val_loader, criterion, optimizer, num_epochs=20):\n",
    "    train_loss_history = []\n",
    "    val_loss_history = []\n",
    "    train_acc_history = []\n",
    "    val_acc_history = []\n",
    "    \n",
    "    for epoch in range(num_epochs):\n",
    "        model.train()\n",
    "        running_loss = 0.0\n",
    "        correct = 0\n",
    "        total = 0\n",
    "        \n",
    "        for inputs, labels in train_loader:\n",
    "            optimizer.zero_grad()\n",
    "            outputs = model(inputs).squeeze()\n",
    "            loss = criterion(outputs, labels.float())\n",
    "            loss.backward()\n",
    "            optimizer.step()\n",
    "            \n",
    "            running_loss += loss.item() * inputs.size(0)\n",
    "            predicted = (outputs > 0.5).float()\n",
    "            correct += (predicted == labels).sum().item()\n",
    "            total += labels.size(0)\n",
    "        \n",
    "        epoch_loss = running_loss / len(train_loader.dataset)\n",
    "        epoch_acc = correct / total\n",
    "        train_loss_history.append(epoch_loss)\n",
    "        train_acc_history.append(epoch_acc)\n",
    "        \n",
    "        model.eval()\n",
    "        running_loss = 0.0\n",
    "        correct = 0\n",
    "        total = 0\n",
    "        \n",
    "        with torch.no_grad():\n",
    "            for inputs, labels in val_loader:\n",
    "                outputs = model(inputs).squeeze()\n",
    "                loss = criterion(outputs, labels.float())\n",
    "                running_loss += loss.item() * inputs.size(0)\n",
    "                predicted = (outputs > 0.5).float()\n",
    "                correct += (predicted == labels).sum().item()\n",
    "                total += labels.size(0)\n",
    "        \n",
    "        epoch_loss = running_loss / len(val_loader.dataset)\n",
    "        epoch_acc = correct / total\n",
    "        val_loss_history.append(epoch_loss)\n",
    "        val_acc_history.append(epoch_acc)\n",
    "        \n",
    "        print(f'Epoch {epoch+1}/{num_epochs}, '\n",
    "              f'Train Loss: {train_loss_history[-1]:.4f}, Train Acc: {train_acc_history[-1]:.4f}, '\n",
    "              f'Val Loss: {val_loss_history[-1]:.4f}, Val Acc: {val_acc_history[-1]:.4f}')\n",
    "    \n",
    "    return train_loss_history, train_acc_history, val_loss_history, val_acc_history\n"
   ]
  },
  {
   "cell_type": "markdown",
   "id": "refined-atlas",
   "metadata": {},
   "source": [
    "# Function to Train the Model\n",
    "\n",
    "This function is used to train a neural network model using the provided training and validation datasets. Here's a breakdown of its components:\n",
    "\n",
    "- **Inputs**:\n",
    "  - `model`: The neural network model to be trained.\n",
    "  - `train_loader`: DataLoader containing the training dataset.\n",
    "  - `val_loader`: DataLoader containing the validation dataset.\n",
    "  - `criterion`: The loss function used for training.\n",
    "  - `optimizer`: The optimization algorithm used for updating the model parameters.\n",
    "  - `num_epochs` (default: 20): The number of training epochs.\n",
    "\n",
    "- **Training Loop**:\n",
    "  - The function iterates over each epoch and within each epoch, it iterates over batches of data from the training loader.\n",
    "  - It performs a forward pass through the model, computes the loss, calculates gradients, and updates the model parameters using the optimizer.\n",
    "  - It also computes training loss and accuracy for each epoch.\n",
    "\n",
    "- **Validation Loop**:\n",
    "  - After each training epoch, the function evaluates the model on the validation dataset to compute validation loss and accuracy.\n",
    "  - The model is set to evaluation mode during validation to disable features like dropout.\n",
    "  \n",
    "- **Print Statements**:\n",
    "  - Information such as epoch number, training loss, training accuracy, validation loss, and validation accuracy is printed for each epoch.\n",
    "\n",
    "- **Return Values**:\n",
    "  - Returns lists containing the training and validation loss and accuracy values for each epoch.\n"
   ]
  },
  {
   "cell_type": "code",
   "execution_count": 9,
   "id": "upper-gambling",
   "metadata": {},
   "outputs": [
    {
     "name": "stdout",
     "output_type": "stream",
     "text": [
      "Epoch 1/20, Train Loss: 0.6499, Train Acc: 0.6327, Val Loss: 0.5520, Val Acc: 0.7812\n",
      "Epoch 2/20, Train Loss: 0.5370, Train Acc: 0.7478, Val Loss: 0.5284, Val Acc: 0.7500\n",
      "Epoch 3/20, Train Loss: 0.5064, Train Acc: 0.7566, Val Loss: 0.4919, Val Acc: 0.7604\n",
      "Epoch 4/20, Train Loss: 0.5193, Train Acc: 0.7478, Val Loss: 0.5894, Val Acc: 0.7396\n",
      "Epoch 5/20, Train Loss: 0.5494, Train Acc: 0.7146, Val Loss: 0.5093, Val Acc: 0.7708\n",
      "Epoch 6/20, Train Loss: 0.5080, Train Acc: 0.7345, Val Loss: 0.4647, Val Acc: 0.7812\n",
      "Epoch 7/20, Train Loss: 0.4724, Train Acc: 0.7920, Val Loss: 0.4723, Val Acc: 0.7500\n",
      "Epoch 8/20, Train Loss: 0.4712, Train Acc: 0.7965, Val Loss: 0.7130, Val Acc: 0.5625\n",
      "Epoch 9/20, Train Loss: 0.4779, Train Acc: 0.7942, Val Loss: 0.4017, Val Acc: 0.8229\n",
      "Epoch 10/20, Train Loss: 0.4117, Train Acc: 0.8230, Val Loss: 0.4483, Val Acc: 0.7917\n",
      "Epoch 11/20, Train Loss: 0.4215, Train Acc: 0.8385, Val Loss: 0.3787, Val Acc: 0.8229\n",
      "Epoch 12/20, Train Loss: 0.3655, Train Acc: 0.8606, Val Loss: 0.4158, Val Acc: 0.8646\n",
      "Epoch 13/20, Train Loss: 0.3425, Train Acc: 0.8628, Val Loss: 0.3717, Val Acc: 0.8125\n",
      "Epoch 14/20, Train Loss: 0.3072, Train Acc: 0.8783, Val Loss: 0.3338, Val Acc: 0.8750\n",
      "Epoch 15/20, Train Loss: 0.3292, Train Acc: 0.8606, Val Loss: 0.3926, Val Acc: 0.8438\n",
      "Epoch 16/20, Train Loss: 0.3166, Train Acc: 0.8783, Val Loss: 0.3634, Val Acc: 0.8750\n",
      "Epoch 17/20, Train Loss: 0.2873, Train Acc: 0.9004, Val Loss: 0.4483, Val Acc: 0.8229\n",
      "Epoch 18/20, Train Loss: 0.2488, Train Acc: 0.9049, Val Loss: 0.3923, Val Acc: 0.8750\n",
      "Epoch 19/20, Train Loss: 0.2643, Train Acc: 0.9049, Val Loss: 0.4021, Val Acc: 0.8438\n",
      "Epoch 20/20, Train Loss: 0.1757, Train Acc: 0.9403, Val Loss: 0.2944, Val Acc: 0.9167\n"
     ]
    }
   ],
   "source": [
    "# training the model\n",
    "train_loss, train_acc, val_loss, val_acc = train_model(model, train_loader, val_loader, criterion, optimizer, num_epochs=20)"
   ]
  },
  {
   "cell_type": "markdown",
   "id": "disciplinary-circus",
   "metadata": {},
   "source": [
    "# Accuracy and Loss through the epochs"
   ]
  },
  {
   "cell_type": "code",
   "execution_count": 10,
   "id": "attended-barcelona",
   "metadata": {},
   "outputs": [
    {
     "data": {
      "image/png": "[encoded data removed]",
      "text/plain": [
       "<Figure size 432x288 with 1 Axes>"
      ]
     },
     "metadata": {
      "needs_background": "light"
     },
     "output_type": "display_data"
    },
    {
     "data": {
      "image/png": "[encoded data removed]",
      "text/plain": [
       "<Figure size 432x288 with 1 Axes>"
      ]
     },
     "metadata": {
      "needs_background": "light"
     },
     "output_type": "display_data"
    }
   ],
   "source": [
    "# Plotting training and validation accuracy\n",
    "plt.plot(train_acc, label='Training Accuracy')\n",
    "plt.plot(val_acc, label='Validation Accuracy')\n",
    "plt.xlabel('Epoch')\n",
    "plt.ylabel('Accuracy')\n",
    "plt.title('Training and Validation Accuracy')\n",
    "plt.legend()\n",
    "plt.show()\n",
    "\n",
    "# Plotting training and validation loss\n",
    "plt.plot(train_loss, label='Training Loss')\n",
    "plt.plot(val_loss, label='Validation Loss')\n",
    "plt.xlabel('Epoch')\n",
    "plt.ylabel('Loss')\n",
    "plt.title('Training and Validation Loss')\n",
    "plt.legend()\n",
    "plt.show()"
   ]
  },
  {
   "cell_type": "markdown",
   "id": "herbal-newcastle",
   "metadata": {},
   "source": [
    "## Interpretation of Training and Validation Accuracy and Loss Graphs\n",
    "\n",
    "### Accuracy:\n",
    "\n",
    "- **Training Accuracy (Blue Line)**: Shows how the model's accuracy on the training set improves over time. There is an upward trend, which is a good sign.\n",
    "- **Validation Accuracy (Orange Line)**: Shows how the model's accuracy on the validation set varies over time. Despite fluctuations, there is a general improving trend.\n",
    "\n",
    "### Loss:\n",
    "\n",
    "- **Training Loss (Blue Line)**: Shows how the loss on the training set decreases over time, indicating that the model is learning.\n",
    "- **Validation Loss (Orange Line)**: Shows how the loss on the validation set varies over time. Despite fluctuations, there is a general decreasing trend.\n",
    "\n",
    "### Overfitting Indications:\n",
    "\n",
    "- **Difference between Training and Validation Accuracy**: If training accuracy keeps improving while validation accuracy stabilizes or worsens, it could indicate overfitting. In this graph, validation accuracy does not show a significant decline, suggesting overfitting might not be a severe issue.\n",
    "- **Difference between Training and Validation Loss**: If training loss consistently decreases while validation loss does not follow the same trend (e.g., validation loss starts to increase), it could indicate overfitting. Here, validation loss fluctuates but shows a general decreasing trend, suggesting overfitting might not be significant.\n"
   ]
  },
  {
   "cell_type": "markdown",
   "id": "adaptive-contamination",
   "metadata": {},
   "source": [
    "# Metrics: sensitivity, specificity, accuracy, confusion matrics"
   ]
  },
  {
   "cell_type": "code",
   "execution_count": 11,
   "id": "posted-belle",
   "metadata": {},
   "outputs": [],
   "source": [
    "\n",
    "def calculate_metrics(model, loader, threshold=0.5):\n",
    "    model.eval()\n",
    "    true_labels = []\n",
    "    pred_labels = []\n",
    "    probabilities = []\n",
    "    \n",
    "    with torch.no_grad():\n",
    "        for inputs, labels in loader:\n",
    "            outputs = model(inputs).squeeze()\n",
    "            probabilities.extend(outputs.tolist())\n",
    "            predicted = (outputs > threshold).float()\n",
    "            true_labels.extend(labels.tolist())\n",
    "            pred_labels.extend(predicted.tolist())\n",
    "    \n",
    "    true_labels = np.array(true_labels)\n",
    "    pred_labels = np.array(pred_labels)\n",
    "    probabilities = np.array(probabilities)\n",
    "    \n",
    "    conf_matrix = confusion_matrix(true_labels, pred_labels)\n",
    "    accuracy = accuracy_score(true_labels, pred_labels)\n",
    "    sensitivity = recall_score(true_labels, pred_labels)\n",
    "    tn, fp, fn, tp = conf_matrix.ravel()\n",
    "    specificity = tn / (tn + fp)\n",
    "    kappa = cohen_kappa_score(true_labels, pred_labels)\n",
    "    fpr, tpr, _ = roc_curve(true_labels, probabilities)\n",
    "    roc_auc = auc(fpr, tpr)\n",
    "    \n",
    "    return conf_matrix, accuracy, sensitivity, specificity, kappa, fpr, tpr, roc_auc"
   ]
  },
  {
   "cell_type": "code",
   "execution_count": 12,
   "id": "educated-royalty",
   "metadata": {},
   "outputs": [],
   "source": [
    "# metrics on training\n",
    "train_conf_matrix, train_accuracy, train_sensitivity, train_specificity, train_kappa, train_fpr, train_tpr, train_roc_auc = calculate_metrics(model, train_loader)"
   ]
  },
  {
   "cell_type": "code",
   "execution_count": 13,
   "id": "damaged-helping",
   "metadata": {},
   "outputs": [
    {
     "data": {
      "image/png": "[encoded data removed]",
      "text/plain": [
       "<Figure size 576x432 with 1 Axes>"
      ]
     },
     "metadata": {
      "needs_background": "light"
     },
     "output_type": "display_data"
    }
   ],
   "source": [
    "# Plotting confusion matrix\n",
    "plt.figure(figsize=(8, 6))\n",
    "sns.heatmap(train_conf_matrix, annot=True, fmt='d', cmap='Blues', cbar=False)\n",
    "plt.xlabel('Predicted Labels')\n",
    "plt.ylabel('True Labels')\n",
    "plt.title('Confusion Matrix - Training Set')\n",
    "plt.show()"
   ]
  },
  {
   "cell_type": "markdown",
   "id": "configured-strain",
   "metadata": {},
   "source": [
    "### The confusion matrix on training set is very good!"
   ]
  },
  {
   "cell_type": "code",
   "execution_count": 14,
   "id": "patent-range",
   "metadata": {},
   "outputs": [
    {
     "name": "stdout",
     "output_type": "stream",
     "text": [
      "Training Set Metrics:\n",
      "Accuracy: 0.9513\n",
      "Sensitivity (Recall): 0.9184\n",
      "Specificity: 0.9672\n",
      "Cohen's Kappa: 0.8887\n"
     ]
    }
   ],
   "source": [
    "# Print evaluation metrics\n",
    "print(\"Training Set Metrics:\")\n",
    "print(f\"Accuracy: {train_accuracy:.4f}\")\n",
    "print(f\"Sensitivity (Recall): {train_sensitivity:.4f}\")\n",
    "print(f\"Specificity: {train_specificity:.4f}\")\n",
    "print(f\"Cohen's Kappa: {train_kappa:.4f}\")"
   ]
  },
  {
   "cell_type": "markdown",
   "id": "british-series",
   "metadata": {},
   "source": [
    "### Also the metrics on training are good!"
   ]
  },
  {
   "cell_type": "code",
   "execution_count": 15,
   "id": "built-mirror",
   "metadata": {},
   "outputs": [
    {
     "data": {
      "image/png": "[encoded data removed]",
      "text/plain": [
       "<Figure size 576x432 with 1 Axes>"
      ]
     },
     "metadata": {
      "needs_background": "light"
     },
     "output_type": "display_data"
    }
   ],
   "source": [
    "# Plot ROC curve\n",
    "plt.figure(figsize=(8, 6))\n",
    "plt.plot(train_fpr, train_tpr, color='blue', lw=2, label=f'ROC curve (area = {train_roc_auc:.2f})')\n",
    "plt.plot([0, 1], [0, 1], color='gray', linestyle='--')\n",
    "plt.xlim([0.0, 1.0])\n",
    "plt.ylim([0.0, 1.05])\n",
    "plt.xlabel('False Positive Rate')\n",
    "plt.ylabel('True Positive Rate')\n",
    "plt.title('Receiver Operating Characteristic (ROC) - Training Set')\n",
    "plt.legend(loc='lower right')\n",
    "plt.show()"
   ]
  },
  {
   "cell_type": "markdown",
   "id": "organic-corruption",
   "metadata": {},
   "source": [
    "### Good roc curve"
   ]
  },
  {
   "cell_type": "markdown",
   "id": "indie-notion",
   "metadata": {},
   "source": [
    "# Metrics on test set"
   ]
  },
  {
   "cell_type": "code",
   "execution_count": 16,
   "id": "discrete-forty",
   "metadata": {},
   "outputs": [
    {
     "data": {
      "text/plain": [
       "<function matplotlib.pyplot.title(label, fontdict=None, loc=None, pad=None, *, y=None, **kwargs)>"
      ]
     },
     "execution_count": 16,
     "metadata": {},
     "output_type": "execute_result"
    },
    {
     "data": {
      "image/png": "[encoded data removed]",
      "text/plain": [
       "<Figure size 576x432 with 1 Axes>"
      ]
     },
     "metadata": {
      "needs_background": "light"
     },
     "output_type": "display_data"
    }
   ],
   "source": [
    "# Calcolo delle metriche sul test set\n",
    "test_conf_matrix, test_accuracy, test_sensitivity, test_specificity, test_kappa, test_fpr, test_tpr, test_roc_auc = calculate_metrics(model, test_loader)\n",
    "\n",
    "# Plotting confusion matrix\n",
    "plt.figure(figsize=(8, 6))\n",
    "sns.heatmap(test_conf_matrix, annot=True, fmt='d', cmap='Blues', cbar=False)\n",
    "plt.xlabel('Predicted Labels')\n",
    "plt.ylabel('True Labels')\n",
    "plt.title"
   ]
  },
  {
   "cell_type": "code",
   "execution_count": 17,
   "id": "cloudy-strategy",
   "metadata": {},
   "outputs": [
    {
     "name": "stdout",
     "output_type": "stream",
     "text": [
      "Test Set Metrics:\n",
      "Accuracy: 0.8687\n",
      "Sensitivity (Recall): 0.6875\n",
      "Specificity: 0.9552\n",
      "Cohen's Kappa: 0.6817\n"
     ]
    }
   ],
   "source": [
    "# Print evaluation metrics\n",
    "print(\"Test Set Metrics:\")\n",
    "print(f\"Accuracy: {test_accuracy:.4f}\")\n",
    "print(f\"Sensitivity (Recall): {test_sensitivity:.4f}\")\n",
    "print(f\"Specificity: {test_specificity:.4f}\")\n",
    "print(f\"Cohen's Kappa: {test_kappa:.4f}\")"
   ]
  },
  {
   "cell_type": "code",
   "execution_count": 18,
   "id": "continent-saturday",
   "metadata": {},
   "outputs": [
    {
     "data": {
      "image/png": "[encoded data removed]",
      "text/plain": [
       "<Figure size 576x432 with 1 Axes>"
      ]
     },
     "metadata": {
      "needs_background": "light"
     },
     "output_type": "display_data"
    }
   ],
   "source": [
    "# Plot ROC curve\n",
    "plt.figure(figsize=(8, 6))\n",
    "plt.plot(test_fpr, test_tpr, color='blue', lw=2, label=f'ROC curve (area = {test_roc_auc:.2f})')\n",
    "plt.plot([0, 1], [0, 1], color='gray', linestyle='--')\n",
    "plt.xlim([0.0, 1.0])\n",
    "plt.ylim([0.0, 1.05])\n",
    "plt.xlabel('False Positive Rate')\n",
    "plt.ylabel('True Positive Rate')\n",
    "plt.title('Receiver Operating Characteristic (ROC) - Test Set')\n",
    "plt.legend(loc='lower right')\n",
    "plt.show()"
   ]
  },
  {
   "cell_type": "markdown",
   "id": "persistent-consultation",
   "metadata": {},
   "source": [
    "### The metrics on the test set are very positive! This neural network has successfully classified the black and white MASK images profitably."
   ]
  }
 ],
 "metadata": {
  "kernelspec": {
   "display_name": "Python 3",
   "language": "python",
   "name": "python3"
  },
  "language_info": {
   "codemirror_mode": {
    "name": "ipython",
    "version": 3
   },
   "file_extension": ".py",
   "mimetype": "text/x-python",
   "name": "python",
   "nbconvert_exporter": "python",
   "pygments_lexer": "ipython3",
   "version": "3.8.5"
  }
 },
 "nbformat": 4,
 "nbformat_minor": 5
}
