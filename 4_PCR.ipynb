{
 "cells": [
  {
   "cell_type": "markdown",
   "id": "later-coach",
   "metadata": {},
   "source": [
    "# PCA LOGISTIC REGRESSION"
   ]
  },
  {
   "cell_type": "code",
   "execution_count": 1,
   "id": "british-bridal",
   "metadata": {},
   "outputs": [],
   "source": [
    "#Import all the libraries needed in the project\n",
    "import pandas as pd\n",
    "import numpy as np\n",
    "import matplotlib.pyplot as plt\n",
    "import seaborn as sns\n",
    "import statsmodels.api as sm\n",
    "\n",
    "# Preprocessing\n",
    "from sklearn.preprocessing import StandardScaler\n",
    "\n",
    "# Model Selection\n",
    "from sklearn.model_selection import train_test_split, cross_val_score, KFold, GridSearchCV\n",
    "from sklearn.linear_model import Lasso\n",
    "\n",
    "# Metrics\n",
    "from sklearn.metrics import confusion_matrix, accuracy_score, precision_score\n",
    "from sklearn.metrics import recall_score, f1_score, classification_report\n",
    "from sklearn.metrics import cohen_kappa_score\n",
    "from sklearn.metrics import log_loss\n",
    "from sklearn.metrics import roc_curve, auc\n",
    "from sklearn.metrics import roc_curve, roc_auc_score\n",
    "\n",
    "# Models\n",
    "from sklearn.linear_model import LogisticRegression\n",
    "from sklearn.ensemble import RandomForestClassifier\n",
    "from sklearn.svm import SVC\n",
    "from sklearn.tree import DecisionTreeClassifier\n",
    "from sklearn.neural_network import MLPClassifier\n",
    "from sklearn.model_selection import learning_curve\n",
    "from sklearn.pipeline import make_pipeline\n",
    "\n",
    "# Dimensionality Reduction\n",
    "from sklearn.decomposition import PCA\n",
    "\n",
    "# Clustering\n",
    "from sklearn.cluster import KMeans\n",
    "from sklearn.metrics import silhouette_score"
   ]
  },
  {
   "cell_type": "code",
   "execution_count": 2,
   "id": "jewish-intellectual",
   "metadata": {},
   "outputs": [
    {
     "name": "stdout",
     "output_type": "stream",
     "text": [
      "Dimensioni di X_test_pca: (215, 3)\n",
      "Dimensioni di Y_test: (215,)\n",
      "Dimensioni di X_train_pca: (499, 3)\n",
      "Dimensioni di Y_train: (499,)\n"
     ]
    }
   ],
   "source": [
    "#preparing data\n",
    "test_set_pca = pd.read_csv(\"test_set_pca.csv\")\n",
    "train_set_pca = pd.read_csv(\"train_set_pca.csv\")\n",
    "data_pca = pd.read_csv(\"data_pca.csv\")\n",
    "\n",
    "\n",
    "X_test_pca = test_set_pca.drop(\"diagnosis\", axis=1)\n",
    "Y_test = test_set_pca[\"diagnosis\"]\n",
    "\n",
    "X_train_pca = train_set_pca.drop(\"diagnosis\", axis=1)\n",
    "Y_train = train_set_pca[\"diagnosis\"]\n",
    "\n",
    "\n",
    "print(\"Dimensioni di X_test_pca:\", X_test_pca.shape)\n",
    "print(\"Dimensioni di Y_test:\", Y_test.shape)\n",
    "print(\"Dimensioni di X_train_pca:\", X_train_pca.shape)\n",
    "print(\"Dimensioni di Y_train:\", Y_train.shape)\n"
   ]
  },
  {
   "cell_type": "code",
   "execution_count": 19,
   "id": "pacific-certificate",
   "metadata": {},
   "outputs": [
    {
     "name": "stdout",
     "output_type": "stream",
     "text": [
      "Optimization terminated successfully.\n",
      "         Current function value: 0.198078\n",
      "         Iterations 9\n",
      "                           Logit Regression Results                           \n",
      "==============================================================================\n",
      "Dep. Variable:              diagnosis   No. Observations:                  499\n",
      "Model:                          Logit   Df Residuals:                      496\n",
      "Method:                           MLE   Df Model:                            2\n",
      "Date:                Fri, 24 May 2024   Pseudo R-squ.:                  0.7141\n",
      "Time:                        13:15:40   Log-Likelihood:                -98.841\n",
      "converged:                       True   LL-Null:                       -345.76\n",
      "Covariance Type:            nonrobust   LLR p-value:                5.817e-108\n",
      "==============================================================================\n",
      "                 coef    std err          z      P>|z|      [0.025      0.975]\n",
      "------------------------------------------------------------------------------\n",
      "PCA1           2.1445      0.205     10.480      0.000       1.743       2.546\n",
      "PCA2          -2.1477      0.241     -8.900      0.000      -2.621      -1.675\n",
      "PCA3          -0.1380      0.197     -0.699      0.484      -0.525       0.249\n",
      "==============================================================================\n"
     ]
    }
   ],
   "source": [
    "# Fit the logistic regression model on the transformed training data\n",
    "log_model_pca = LogisticRegression()\n",
    "log_model_pca.fit(X_train_pca, Y_train)\n",
    "\n",
    "# Print the summary of the logistic regression model\n",
    "model_summary = sm.Logit(Y_train, X_train_pca).fit()\n",
    "print(model_summary.summary())"
   ]
  },
  {
   "cell_type": "code",
   "execution_count": 15,
   "id": "smart-popularity",
   "metadata": {},
   "outputs": [
    {
     "name": "stdout",
     "output_type": "stream",
     "text": [
      "Cross-Validation Scores: [0.99       0.93       0.93       0.91       0.91919192]\n",
      "Mean Cross-Validation Score: 0.9358383838383839\n",
      "Optimization terminated successfully.\n",
      "         Current function value: 0.198078\n",
      "         Iterations 9\n",
      "                           Logit Regression Results                           \n",
      "==============================================================================\n",
      "Dep. Variable:              diagnosis   No. Observations:                  499\n",
      "Model:                          Logit   Df Residuals:                      496\n",
      "Method:                           MLE   Df Model:                            2\n",
      "Date:                Fri, 24 May 2024   Pseudo R-squ.:                  0.7141\n",
      "Time:                        13:11:45   Log-Likelihood:                -98.841\n",
      "converged:                       True   LL-Null:                       -345.76\n",
      "Covariance Type:            nonrobust   LLR p-value:                5.817e-108\n",
      "==============================================================================\n",
      "                 coef    std err          z      P>|z|      [0.025      0.975]\n",
      "------------------------------------------------------------------------------\n",
      "PCA1           2.1445      0.205     10.480      0.000       1.743       2.546\n",
      "PCA2          -2.1477      0.241     -8.900      0.000      -2.621      -1.675\n",
      "PCA3          -0.1380      0.197     -0.699      0.484      -0.525       0.249\n",
      "==============================================================================\n"
     ]
    }
   ],
   "source": [
    "from sklearn.model_selection import KFold, cross_val_score\n",
    "from sklearn.linear_model import LogisticRegression\n",
    "import statsmodels.api as sm\n",
    "\n",
    "# Definizione del modello di regressione logistica\n",
    "log_model_CV = LogisticRegression()\n",
    "\n",
    "# Definizione della KFold cross-validation con 5 fold\n",
    "kf = KFold(n_splits=5, shuffle=True, random_state=87)\n",
    "\n",
    "# Esecuzione della cross-validation\n",
    "cv_scores = cross_val_score(log_model_CV, X_train_pca, Y_train, cv=kf, scoring='accuracy')\n",
    "\n",
    "# Stampare i punteggi della cross-validation\n",
    "print(\"Cross-Validation Scores:\", cv_scores)\n",
    "print(\"Mean Cross-Validation Score:\", cv_scores.mean())\n",
    "\n",
    "# Fitting del modello con statsmodels per ottenere il summary\n",
    "model_summary = sm.Logit(Y_train, X_train_pca).fit()\n",
    "print(model_summary.summary())"
   ]
  },
  {
   "cell_type": "code",
   "execution_count": 21,
   "id": "industrial-bunny",
   "metadata": {},
   "outputs": [
    {
     "data": {
      "image/png": "[encoded data removed]",
      "text/plain": [
       "<Figure size 720x432 with 1 Axes>"
      ]
     },
     "metadata": {
      "needs_background": "light"
     },
     "output_type": "display_data"
    }
   ],
   "source": [
    "# Ottenere i coefficienti del modello\n",
    "coefficients = log_model_pca.coef_[0]\n",
    "\n",
    "# Plot dei coefficienti\n",
    "plt.figure(figsize=(10, 6))\n",
    "plt.bar(range(len(coefficients)), coefficients)\n",
    "plt.title('Coefficients of Logistic Regression with PCA')\n",
    "plt.xlabel('Component Index')\n",
    "plt.ylabel('Coefficient')\n",
    "plt.xticks(rotation=45, ha='right')\n",
    "plt.show()"
   ]
  },
  {
   "cell_type": "code",
   "execution_count": 23,
   "id": "fluid-cincinnati",
   "metadata": {},
   "outputs": [
    {
     "name": "stdout",
     "output_type": "stream",
     "text": [
      "Metrics for Training Set:\n",
      "Accuracy: 0.9418837675350702\n",
      "Confusion Matrix:\n",
      "[[232  12]\n",
      " [ 17 238]]\n"
     ]
    }
   ],
   "source": [
    "# Predictions on the training set\n",
    "train_predictions_pca = log_model_pca.predict(X_train_pca)\n",
    "\n",
    "# Accuracy on the training set\n",
    "accuracy_train_pca = accuracy_score(Y_train, train_predictions_pca)\n",
    "\n",
    "# Confusion matrix on the training set\n",
    "conf_matrix_train_pca = confusion_matrix(Y_train, train_predictions_pca)\n",
    "\n",
    "# Print metrics\n",
    "print(\"Metrics for Training Set:\")\n",
    "print(\"Accuracy:\", accuracy_train_pca)\n",
    "print(\"Confusion Matrix:\")\n",
    "print(conf_matrix_train_pca)"
   ]
  },
  {
   "cell_type": "code",
   "execution_count": 26,
   "id": "streaming-intent",
   "metadata": {},
   "outputs": [
    {
     "name": "stdout",
     "output_type": "stream",
     "text": [
      "\n",
      "Metrics for Test Set:\n",
      "Accuracy: 0.9069767441860465\n",
      "Confusion Matrix:\n",
      "[[104   9]\n",
      " [ 11  91]]\n"
     ]
    }
   ],
   "source": [
    "# Predictions on the test set\n",
    "test_predictions_pca = log_model_pca.predict(X_test_pca)\n",
    "\n",
    "# Accuracy on the test set\n",
    "accuracy_test_pca = accuracy_score(Y_test, test_predictions_pca)\n",
    "\n",
    "# Confusion matrix on the test set\n",
    "conf_matrix_test_pca = confusion_matrix(Y_test, test_predictions_pca)\n",
    "\n",
    "# Print metrics\n",
    "print(\"\\nMetrics for Test Set:\")\n",
    "print(\"Accuracy:\", accuracy_test_pca)\n",
    "print(\"Confusion Matrix:\")\n",
    "print(conf_matrix_test_pca)"
   ]
  },
  {
   "cell_type": "code",
   "execution_count": 30,
   "id": "grand-arrow",
   "metadata": {},
   "outputs": [
    {
     "data": {
      "image/png": "[encoded data removed]",
      "text/plain": [
       "<Figure size 576x432 with 1 Axes>"
      ]
     },
     "metadata": {
      "needs_background": "light"
     },
     "output_type": "display_data"
    }
   ],
   "source": [
    "# Predict probabilities for ROC curve\n",
    "train_predicted_probabilities_pca = log_model_pca.predict_proba(X_train_pca)[:, 1]\n",
    "test_predicted_probabilities_pca = log_model_pca.predict_proba(X_test_pca)[:, 1]\n",
    "\n",
    "# Calculate ROC curve and AUC for training set\n",
    "fpr_train_pca, tpr_train_pca, _ = roc_curve(Y_train, train_predicted_probabilities_pca)\n",
    "roc_auc_train_pca = auc(fpr_train_pca, tpr_train_pca)\n",
    "\n",
    "# Calculate ROC curve and AUC for test set\n",
    "fpr_test_pca, tpr_test_pca, _ = roc_curve(Y_test, test_predicted_probabilities_pca)\n",
    "roc_auc_test_pca = auc(fpr_test_pca, tpr_test_pca)\n",
    "\n",
    "# Plot ROC curve\n",
    "plt.figure(figsize=(8, 6))\n",
    "plt.plot(fpr_train_pca, tpr_train_pca, color='blue', lw=2, label='ROC curve (Train) (AUC = %0.2f)' % roc_auc_train_pca)\n",
    "plt.plot(fpr_test_pca, tpr_test_pca, color='red', lw=2, label='ROC curve (Test) (AUC = %0.2f)' % roc_auc_test_pca)\n",
    "plt.plot([0, 1], [0, 1], color='black', lw=2, linestyle='--')\n",
    "plt.xlim([0.0, 1.0])\n",
    "plt.ylim([0.0, 1.05])\n",
    "plt.xlabel('False Positive Rate')\n",
    "plt.ylabel('True Positive Rate')\n",
    "plt.title('Receiver Operating Characteristic (ROC) Curve')\n",
    "plt.legend(loc='lower right')\n",
    "plt.show()"
   ]
  },
  {
   "cell_type": "code",
   "execution_count": null,
   "id": "ranging-forestry",
   "metadata": {},
   "outputs": [],
   "source": []
  }
 ],
 "metadata": {
  "kernelspec": {
   "display_name": "Python 3",
   "language": "python",
   "name": "python3"
  },
  "language_info": {
   "codemirror_mode": {
    "name": "ipython",
    "version": 3
   },
   "file_extension": ".py",
   "mimetype": "text/x-python",
   "name": "python",
   "nbconvert_exporter": "python",
   "pygments_lexer": "ipython3",
   "version": "3.8.5"
  }
 },
 "nbformat": 4,
 "nbformat_minor": 5
}
