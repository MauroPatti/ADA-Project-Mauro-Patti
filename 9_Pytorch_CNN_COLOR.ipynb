{
 "cells": [
  {
   "cell_type": "markdown",
   "id": "unlikely-roberts",
   "metadata": {},
   "source": [
    "# CNN on COLOR images using Pytorch \n",
    "In this code, two convolutional neural networks will be trained, one with 10 epochs and one with 20 epochs, on grayscale images of tumors. The binary classification achieved excellent results.\n"
   ]
  },
  {
   "cell_type": "code",
   "execution_count": 1,
   "id": "excess-status",
   "metadata": {},
   "outputs": [],
   "source": [
    "#Import all the libraries needed in the project\n",
    "import pandas as pd\n",
    "import numpy as np\n",
    "import matplotlib.pyplot as plt\n",
    "import seaborn as sns\n",
    "import os\n",
    "import cv2\n",
    "import shutil\n",
    "import random\n",
    "import tensorflow as tf\n",
    "import torch\n",
    "#import statsmodels.api as sm\n",
    "\n",
    "# Preprocessing\n",
    "from sklearn.preprocessing import StandardScaler\n",
    "\n",
    "# Model Selection\n",
    "from sklearn.model_selection import train_test_split, cross_val_score, KFold, GridSearchCV\n",
    "\n",
    "# Metrics\n",
    "from sklearn.metrics import confusion_matrix, accuracy_score, precision_score\n",
    "from sklearn.metrics import recall_score, f1_score, classification_report\n",
    "from sklearn.metrics import cohen_kappa_score\n",
    "from sklearn.metrics import log_loss\n",
    "from sklearn.metrics import roc_curve, auc\n",
    "\n",
    "# Models\n",
    "from sklearn.linear_model import LogisticRegression\n",
    "from sklearn.ensemble import RandomForestClassifier\n",
    "from sklearn.svm import SVC\n",
    "from sklearn.tree import DecisionTreeClassifier\n",
    "from sklearn.neural_network import MLPClassifier\n",
    "from sklearn.model_selection import learning_curve\n",
    "from sklearn.pipeline import make_pipeline\n",
    "'''# Dimensionality Reduction\n",
    "from sklearn.decomposition import PCA\n",
    "\n",
    "# Clustering\n",
    "from sklearn.cluster import KMeans\n",
    "from sklearn.metrics import silhouette_score\n",
    "\n",
    "#Import tensorflow libraries\n",
    "from tensorflow.keras.preprocessing.image import ImageDataGenerator\n",
    "from tensorflow.keras.applications import VGG16\n",
    "from tensorflow.keras.models import Sequential\n",
    "from tensorflow.keras.layers import Dense, Flatten, Dropout\n",
    "from tensorflow.keras.optimizers import Adam\n",
    "'''\n",
    "#Import torch libraries\n",
    "import torch.nn as nn\n",
    "import torch.optim as optim\n",
    "from torchvision import datasets, transforms\n",
    "from torch.utils.data import DataLoader"
   ]
  },
  {
   "cell_type": "code",
   "execution_count": null,
   "id": "incorporate-relevance",
   "metadata": {},
   "outputs": [],
   "source": [
    "# Set the seed for PyTorch to make the results reproducible\n",
    "seed = 87\n",
    "torch.manual_seed(seed)\n",
    "torch.cuda.manual_seed(seed) if torch.cuda.is_available() else None\n",
    "\n",
    "# Set the seed for NumPy to make the results reproducible\n",
    "np.random.seed(seed)\n",
    "\n",
    "# Set the seed for Python's random library to make the results reproducible\n",
    "random.seed(seed)"
   ]
  },
  {
   "cell_type": "markdown",
   "id": "friendly-signal",
   "metadata": {},
   "source": [
    "## Loading the Image Dataset:"
   ]
  },
  {
   "cell_type": "code",
   "execution_count": 3,
   "id": "earned-trinity",
   "metadata": {},
   "outputs": [],
   "source": [
    "# defining images dimensions\n",
    "img_height = 512\n",
    "img_width = 512\n",
    "batch_size = 15"
   ]
  },
  {
   "cell_type": "code",
   "execution_count": 4,
   "id": "acceptable-luxembourg",
   "metadata": {},
   "outputs": [],
   "source": [
    "# Trasforming images of validation and training sets\n",
    "train_transforms = transforms.Compose([\n",
    "    transforms.Resize((img_height, img_width)),\n",
    "    transforms.Grayscale(),\n",
    "    transforms.RandomRotation(20),\n",
    "    transforms.RandomHorizontalFlip(),\n",
    "    transforms.RandomVerticalFlip(),\n",
    "    transforms.ToTensor(),\n",
    "    transforms.Normalize(mean=[0.5], std=[0.5])\n",
    "])\n",
    "\n",
    "val_test_transforms = transforms.Compose([\n",
    "    transforms.Resize((img_height, img_width)),\n",
    "    transforms.Grayscale(),\n",
    "    transforms.ToTensor(),\n",
    "    transforms.Normalize(mean=[0.5], std=[0.5])\n",
    "])\n",
    "\n",
    "# Uploading dataset\n",
    "train_dataset = datasets.ImageFolder(root='dataset/train', transform=train_transforms)\n",
    "val_dataset = datasets.ImageFolder(root='dataset/val', transform=val_test_transforms)\n",
    "test_dataset = datasets.ImageFolder(root='dataset/test', transform=val_test_transforms)\n",
    "\n",
    "train_loader = DataLoader(train_dataset, batch_size=batch_size, shuffle=True)\n",
    "val_loader = DataLoader(val_dataset, batch_size=batch_size, shuffle=False)\n",
    "test_loader = DataLoader(test_dataset, batch_size=batch_size, shuffle=False)"
   ]
  },
  {
   "cell_type": "markdown",
   "id": "sacred-spotlight",
   "metadata": {},
   "source": [
    "These are image transformation pipelines defined using PyTorch's transforms.Compose class.\n",
    "\n",
    "For the training set (train_transforms), the images are resized to a specified height and width, converted to grayscale, and then subjected to random rotation (up to 20 degrees), horizontal and vertical flipping for data augmentation. Finally, the images are converted to tensors and normalized.\n",
    "\n",
    "For the validation and test sets (val_test_transforms), the same resizing and grayscale conversion are applied without data augmentation, followed by conversion to tensors and normalization.\n",
    "\n",
    "These transformations are commonly used in computer vision tasks to prepare image data for training and evaluation of neural networks."
   ]
  },
  {
   "cell_type": "code",
   "execution_count": 5,
   "id": "spread-birth",
   "metadata": {},
   "outputs": [],
   "source": [
    "# Definizion of CNN\n",
    "class SimpleCNN(nn.Module):\n",
    "    def __init__(self):\n",
    "        super(SimpleCNN, self).__init__()\n",
    "        self.conv1 = nn.Conv2d(1, 32, kernel_size=3, padding=1)\n",
    "        self.pool = nn.MaxPool2d(kernel_size=2, stride=2, padding=0)\n",
    "        self.conv2 = nn.Conv2d(32, 64, kernel_size=3, padding=1)\n",
    "        self.conv3 = nn.Conv2d(64, 128, kernel_size=3, padding=1)\n",
    "        self.conv4 = nn.Conv2d(128, 256, kernel_size=3, padding=1)\n",
    "        self.fc1 = nn.Linear(256 * (img_height // 16) * (img_width // 16), 512)\n",
    "        self.fc2 = nn.Linear(512, 128)\n",
    "        self.fc3 = nn.Linear(128, 1)\n",
    "    \n",
    "    def forward(self, x):\n",
    "        x = self.pool(torch.relu(self.conv1(x)))\n",
    "        x = self.pool(torch.relu(self.conv2(x)))\n",
    "        x = self.pool(torch.relu(self.conv3(x)))\n",
    "        x = self.pool(torch.relu(self.conv4(x)))\n",
    "        x = x.view(-1, 256 * (img_height // 16) * (img_width // 16))\n",
    "        x = torch.relu(self.fc1(x))\n",
    "        x = torch.relu(self.fc2(x))\n",
    "        x = torch.sigmoid(self.fc3(x))\n",
    "        return x"
   ]
  },
  {
   "cell_type": "markdown",
   "id": "executed-ecuador",
   "metadata": {},
   "source": [
    "## Definition of CNN\n",
    "\n",
    "This is the definition of a Convolutional Neural Network (CNN) model implemented using PyTorch.\n",
    "\n",
    "The `SimpleCNN` class inherits from `nn.Module`, the base class for all neural network modules in PyTorch. \n",
    "\n",
    "In the constructor (`__init__`), the model architecture is defined. It consists of four convolutional layers (`conv1` to `conv4`) followed by max-pooling layers (`pool`) for downsampling. The convolutional layers use ReLU activation functions. \n",
    "\n",
    "The fully connected layers (`fc1` to `fc3`) are defined for classification. The input size of the first fully connected layer is calculated based on the dimensions of the output tensor from the last convolutional layer. \n",
    "\n",
    "In the `forward` method, the input tensor `x` undergoes a series of forward passes through the convolutional and pooling layers. After flattening the output tensor, it passes through the fully connected layers with ReLU activation functions. The final layer uses a sigmoid activation function to produce binary classification probabilities.\n",
    "\n",
    "Overall, this CNN architecture extracts features from input images through convolutional and pooling operations, and then performs classification based on these features through fully connected layers.\n"
   ]
  },
  {
   "cell_type": "code",
   "execution_count": 6,
   "id": "listed-checklist",
   "metadata": {},
   "outputs": [],
   "source": [
    "# Inizializzazione del modello, della loss function e dell'optimizer\n",
    "model = SimpleCNN()\n",
    "criterion = nn.BCELoss()\n",
    "optimizer = optim.Adam(model.parameters(), lr=0.001)"
   ]
  },
  {
   "cell_type": "markdown",
   "id": "worth-bulletin",
   "metadata": {},
   "source": [
    "## Initialization of the Model, Loss Function, and Optimizer\n",
    "\n",
    "This code initializes the model (`SimpleCNN`), the loss function (`BCELoss` for binary cross-entropy loss), and the optimizer (`Adam`) with a learning rate of 0.001.\n",
    "\n",
    "- **Model Initialization**: \n",
    "  The `SimpleCNN` model is instantiated. This is the convolutional neural network defined earlier.\n",
    "\n",
    "- **Loss Function Initialization**:\n",
    "  The binary cross-entropy loss function (`BCELoss`) is initialized. This loss function is commonly used for binary classification tasks, where the model outputs probabilities.\n",
    "\n",
    "- **Optimizer Initialization**:\n",
    "  The Adam optimizer (`optim.Adam`) is initialized to optimize the parameters of the model. It uses the learning rate specified as 0.001.\n",
    "\n",
    "These components are essential for training the model on the dataset and optimizing its parameters to minimize the loss.\n"
   ]
  },
  {
   "cell_type": "code",
   "execution_count": 9,
   "id": "middle-roots",
   "metadata": {},
   "outputs": [],
   "source": [
    "# Funzione per addestrare il modello\n",
    "def train_model(model_, train_loader, val_loader, criterion, optimizer, num_epochs=10):\n",
    "    train_loss_history = []\n",
    "    val_loss_history = []\n",
    "    train_acc_history = []\n",
    "    val_acc_history = []\n",
    "    \n",
    "    for epoch in range(num_epochs):\n",
    "        model.train()\n",
    "        running_loss = 0.0\n",
    "        correct = 0\n",
    "        total = 0\n",
    "        \n",
    "        for inputs, labels in train_loader:\n",
    "            optimizer.zero_grad()\n",
    "            outputs = model(inputs).squeeze()\n",
    "            loss = criterion(outputs, labels.float())\n",
    "            loss.backward()\n",
    "            optimizer.step()\n",
    "            \n",
    "            running_loss += loss.item() * inputs.size(0)\n",
    "            predicted = (outputs > 0.5).float()\n",
    "            correct += (predicted == labels).sum().item()\n",
    "            total += labels.size(0)\n",
    "        \n",
    "        epoch_loss = running_loss / len(train_loader.dataset)\n",
    "        epoch_acc = correct / total\n",
    "        train_loss_history.append(epoch_loss)\n",
    "        train_acc_history.append(epoch_acc)\n",
    "        \n",
    "        model.eval()\n",
    "        running_loss = 0.0\n",
    "        correct = 0\n",
    "        total = 0\n",
    "        \n",
    "        with torch.no_grad():\n",
    "            for inputs, labels in val_loader:\n",
    "                outputs = model(inputs).squeeze()\n",
    "                loss = criterion(outputs, labels.float())\n",
    "                running_loss += loss.item() * inputs.size(0)\n",
    "                predicted = (outputs > 0.5).float()\n",
    "                correct += (predicted == labels).sum().item()\n",
    "                total += labels.size(0)\n",
    "        \n",
    "        epoch_loss = running_loss / len(val_loader.dataset)\n",
    "        epoch_acc = correct / total\n",
    "        val_loss_history.append(epoch_loss)\n",
    "        val_acc_history.append(epoch_acc)\n",
    "        \n",
    "        print(f'Epoch {epoch+1}/{num_epochs}, '\n",
    "              f'Train Loss: {train_loss_history[-1]:.4f}, Train Acc: {train_acc_history[-1]:.4f}, '\n",
    "              f'Val Loss: {val_loss_history[-1]:.4f}, Val Acc: {val_acc_history[-1]:.4f}')\n",
    "    \n",
    "    return train_loss_history, train_acc_history, val_loss_history, val_acc_history\n"
   ]
  },
  {
   "cell_type": "markdown",
   "id": "beginning-ability",
   "metadata": {},
   "source": [
    "## Training Function Explanation\n",
    "\n",
    "This function `train_model` is responsible for training the neural network model using the provided training and validation data loaders, along with the specified criterion (loss function) and optimizer. Here's a brief explanation of the steps:\n",
    "\n",
    "1. **Initialization**: \n",
    "   - Initialize empty lists to store training and validation loss history (`train_loss_history` and `val_loss_history`) as well as training and validation accuracy history (`train_acc_history` and `val_acc_history`).\n",
    "   \n",
    "2. **Epoch Loop**: \n",
    "   - Iterate over each epoch in the specified number of epochs (`num_epochs`).\n",
    "   \n",
    "3. **Training Phase**: \n",
    "   - Set the model to training mode (`model.train()`).\n",
    "   - Iterate over batches of data from the training loader.\n",
    "   - Perform forward pass through the model (`model(inputs)`), calculate loss (`criterion(outputs, labels.float())`), perform backward pass and optimization (`optimizer.step()`).\n",
    "   - Update running loss and compute accuracy.\n",
    "   \n",
    "4. **Validation Phase**: \n",
    "   - Set the model to evaluation mode (`model.eval()`).\n",
    "   - Iterate over batches of data from the validation loader.\n",
    "   - Perform forward pass through the model, calculate loss and update running loss.\n",
    "   - Compute accuracy without gradient calculation.\n",
    "   \n",
    "5. **Logging**: \n",
    "   - Print and store the average training and validation loss and accuracy for each epoch.\n",
    "   \n",
    "6. **Return**: \n",
    "   - Return the training and validation loss and accuracy history lists.\n",
    "\n",
    "This function iterates over the dataset for the specified number of epochs, updating the model parameters to minimize the loss and monitoring the performance on both the training and validation sets.\n"
   ]
  },
  {
   "cell_type": "code",
   "execution_count": 10,
   "id": "substantial-project",
   "metadata": {},
   "outputs": [
    {
     "name": "stdout",
     "output_type": "stream",
     "text": [
      "Epoch 1/10, Train Loss: 0.6971, Train Acc: 0.7487, Val Loss: 0.6112, Val Acc: 0.7831\n",
      "Epoch 2/10, Train Loss: 0.5554, Train Acc: 0.7821, Val Loss: 0.5191, Val Acc: 0.7831\n",
      "Epoch 3/10, Train Loss: 0.5266, Train Acc: 0.7821, Val Loss: 0.5019, Val Acc: 0.7831\n",
      "Epoch 4/10, Train Loss: 0.5134, Train Acc: 0.7821, Val Loss: 0.5149, Val Acc: 0.7831\n",
      "Epoch 5/10, Train Loss: 0.4875, Train Acc: 0.7821, Val Loss: 0.4457, Val Acc: 0.7831\n",
      "Epoch 6/10, Train Loss: 0.4661, Train Acc: 0.7821, Val Loss: 0.4443, Val Acc: 0.7952\n",
      "Epoch 7/10, Train Loss: 0.4409, Train Acc: 0.7974, Val Loss: 0.4270, Val Acc: 0.7711\n",
      "Epoch 8/10, Train Loss: 0.4672, Train Acc: 0.8154, Val Loss: 0.4120, Val Acc: 0.8072\n",
      "Epoch 9/10, Train Loss: 0.4662, Train Acc: 0.7974, Val Loss: 0.3961, Val Acc: 0.8313\n",
      "Epoch 10/10, Train Loss: 0.4235, Train Acc: 0.8205, Val Loss: 0.3760, Val Acc: 0.8313\n"
     ]
    }
   ],
   "source": [
    "train_loss_history, train_acc_history, val_loss_history, val_acc_history = train_model(model, train_loader, val_loader, criterion, optimizer, num_epochs=10)"
   ]
  },
  {
   "cell_type": "markdown",
   "id": "meaning-spending",
   "metadata": {},
   "source": [
    "## Training and Validation Metrics\n",
    "\n",
    "The plots show the training and validation accuracy, as well as the training and validation loss over 10 epochs for a convolutional neural network model.\n"
   ]
  },
  {
   "cell_type": "code",
   "execution_count": 12,
   "id": "integral-treasurer",
   "metadata": {},
   "outputs": [
    {
     "data": {
      "image/png": "[encoded data removed]",
      "text/plain": [
       "<Figure size 432x288 with 1 Axes>"
      ]
     },
     "metadata": {
      "needs_background": "light"
     },
     "output_type": "display_data"
    },
    {
     "data": {
      "image/png": "[encoded data removed]",
      "text/plain": [
       "<Figure size 432x288 with 1 Axes>"
      ]
     },
     "metadata": {
      "needs_background": "light"
     },
     "output_type": "display_data"
    }
   ],
   "source": [
    "# Plotting training and validation accuracy\n",
    "plt.plot(train_acc_history, label='Training Accuracy')\n",
    "plt.plot(val_acc_history, label='Validation Accuracy')\n",
    "plt.xlabel('Epoch')\n",
    "plt.ylabel('Accuracy')\n",
    "plt.title('Training and Validation Accuracy')\n",
    "plt.legend()\n",
    "plt.show()\n",
    "\n",
    "# Plotting training and validation loss\n",
    "plt.plot(train_loss_history, label='Training Loss')\n",
    "plt.plot(val_loss_history, label='Validation Loss')\n",
    "plt.xlabel('Epoch')\n",
    "plt.ylabel('Loss')\n",
    "plt.title('Training and Validation Loss')\n",
    "plt.legend()\n",
    "plt.show()"
   ]
  },
  {
   "cell_type": "markdown",
   "id": "alien-organizer",
   "metadata": {},
   "source": [
    "## Training and Validation Accuracy\n",
    "- The top plot illustrates the accuracy of the model on both the training and validation sets over each epoch.\n",
    "- Initially, the training accuracy increases steadily, while the validation accuracy also improves but with some fluctuations.\n",
    "- Towards the end of the training, both training and validation accuracies converge and reach around 0.82, indicating that the model is learning effectively and generalizing well to the validation set.\n",
    "\n",
    "### Training and Validation Loss\n",
    "- The bottom plot displays the loss values for the training and validation sets over each epoch.\n",
    "- Both training and validation losses show a consistent decrease over the epochs, indicating that the model is effectively minimizing the error on both datasets.\n",
    "- The validation loss follows a similar trend to the training loss, which suggests that the model is not overfitting and is maintaining good performance on unseen data.\n",
    "\n",
    "Overall, the plots suggest that the model is performing well, with both accuracy and loss metrics indicating good training and generalization behavior.\n"
   ]
  },
  {
   "cell_type": "markdown",
   "id": "variable-adoption",
   "metadata": {},
   "source": [
    "## Function to Calculate Evaluation Metrics\n",
    "\n",
    "This function `calculate_metrics` evaluates the performance of a trained model on a given data loader. It calculates various metrics to assess the model's performance.\n"
   ]
  },
  {
   "cell_type": "code",
   "execution_count": 13,
   "id": "complete-functionality",
   "metadata": {},
   "outputs": [],
   "source": [
    "# Funzione per calcolare le metriche di valutazione\n",
    "def calculate_metrics(model, loader, threshold=0.5):\n",
    "    model.eval()\n",
    "    true_labels = []\n",
    "    pred_labels = []\n",
    "    probabilities = []\n",
    "    \n",
    "    with torch.no_grad():\n",
    "        for inputs, labels in loader:\n",
    "            outputs = model(inputs).squeeze()\n",
    "            probabilities.extend(outputs.tolist())\n",
    "            predicted = (outputs > threshold).float()\n",
    "            true_labels.extend(labels.tolist())\n",
    "            pred_labels.extend(predicted.tolist())\n",
    "    \n",
    "    true_labels = np.array(true_labels)\n",
    "    pred_labels = np.array(pred_labels)\n",
    "    probabilities = np.array(probabilities)\n",
    "    \n",
    "    conf_matrix = confusion_matrix(true_labels, pred_labels)\n",
    "    accuracy = accuracy_score(true_labels, pred_labels)\n",
    "    sensitivity = recall_score(true_labels, pred_labels)\n",
    "    tn, fp, fn, tp = conf_matrix.ravel()\n",
    "    specificity = tn / (tn + fp)\n",
    "    kappa = cohen_kappa_score(true_labels, pred_labels)\n",
    "    fpr, tpr, _ = roc_curve(true_labels, probabilities)\n",
    "    roc_auc = auc(fpr, tpr)\n",
    "    \n",
    "    return conf_matrix, accuracy, sensitivity, specificity, kappa, fpr, tpr, roc_auc"
   ]
  },
  {
   "cell_type": "markdown",
   "id": "posted-france",
   "metadata": {},
   "source": [
    "\n",
    "- **model.eval()**: Sets the model to evaluation mode.\n",
    "- **true_labels, pred_labels, probabilities**: Initialize lists to store true labels, predicted labels, and output probabilities.\n",
    "- **torch.no_grad()**: Disables gradient calculation for efficiency during evaluation.\n",
    "\n",
    "### Steps:\n",
    "1. **Forward Pass**: For each batch of inputs and labels from the loader, the model outputs are computed.\n",
    "2. **Thresholding**: The outputs are compared against a threshold to determine the predicted labels.\n",
    "3. **Metrics Calculation**:\n",
    "   - **Confusion Matrix**: Computed using `confusion_matrix`.\n",
    "   - **Accuracy**: Computed using `accuracy_score`.\n",
    "   - **Sensitivity (Recall)**: Computed using `recall_score`.\n",
    "   - **Specificity**: Calculated from the confusion matrix.\n",
    "   - **Kappa**: Computed using `cohen_kappa_score`.\n",
    "   - **ROC Curve and AUC**: Computed using `roc_curve` and `auc`.\n",
    "\n",
    "### Returns:\n",
    "- `conf_matrix`: Confusion matrix.\n",
    "- `accuracy`: Accuracy of the model.\n",
    "- `sensitivity`: Recall or sensitivity of the model.\n",
    "- `specificity`: Specificity of the model.\n",
    "- `kappa`: Cohen's kappa score.\n",
    "- `fpr, tpr`: False positive rate and true positive rate for ROC curve.\n",
    "- `roc_auc`: Area under the ROC curve.\n"
   ]
  },
  {
   "cell_type": "code",
   "execution_count": 14,
   "id": "passing-mozambique",
   "metadata": {},
   "outputs": [],
   "source": [
    "# Calcolo delle metriche sul training set\n",
    "train_conf_matrix, train_accuracy, train_sensitivity, train_specificity, train_kappa, train_fpr, train_tpr, train_roc_auc = calculate_metrics(model, train_loader)"
   ]
  },
  {
   "cell_type": "markdown",
   "id": "demanding-kingdom",
   "metadata": {},
   "source": [
    "### Confusion Matrix and Evaluation Metrics\n",
    "\n",
    "The provided code and output display the confusion matrix and several evaluation metrics for the training set of a classification model.\n"
   ]
  },
  {
   "cell_type": "code",
   "execution_count": 15,
   "id": "western-bronze",
   "metadata": {},
   "outputs": [
    {
     "data": {
      "image/png": "[encoded data removed]",
      "text/plain": [
       "<Figure size 576x432 with 1 Axes>"
      ]
     },
     "metadata": {
      "needs_background": "light"
     },
     "output_type": "display_data"
    }
   ],
   "source": [
    "# Plotting confusion matrix\n",
    "plt.figure(figsize=(8, 6))\n",
    "sns.heatmap(train_conf_matrix, annot=True, fmt='d', cmap='Blues', cbar=False)\n",
    "plt.xlabel('Predicted Labels')\n",
    "plt.ylabel('True Labels')\n",
    "plt.title('Confusion Matrix - Training Set')\n",
    "plt.show()"
   ]
  },
  {
   "cell_type": "code",
   "execution_count": 16,
   "id": "chronic-beaver",
   "metadata": {},
   "outputs": [
    {
     "name": "stdout",
     "output_type": "stream",
     "text": [
      "Training Set Metrics:\n",
      "Accuracy: 0.8282\n",
      "Sensitivity (Recall): 0.4471\n",
      "Specificity: 0.9344\n",
      "Cohen's Kappa: 0.4308\n"
     ]
    }
   ],
   "source": [
    "# Print evaluation metrics\n",
    "print(\"Training Set Metrics:\")\n",
    "print(f\"Accuracy: {train_accuracy:.4f}\")\n",
    "print(f\"Sensitivity (Recall): {train_sensitivity:.4f}\")\n",
    "print(f\"Specificity: {train_specificity:.4f}\")\n",
    "print(f\"Cohen's Kappa: {train_kappa:.4f}\")"
   ]
  },
  {
   "cell_type": "markdown",
   "id": "brilliant-rogers",
   "metadata": {},
   "source": [
    "\n",
    "1. **Confusion Matrix**:\n",
    "    - The confusion matrix visualizes the performance of the model by showing the true positive, true negative, false positive, and false negative values.\n",
    "    - In this case:\n",
    "        - True Negatives (285): Correctly predicted benign tumors.\n",
    "        - False Positives (20): Benign tumors incorrectly predicted as malignant.\n",
    "        - False Negatives (47): Malignant tumors incorrectly predicted as benign.\n",
    "        - True Positives (38): Correctly predicted malignant tumors.\n",
    "\n",
    "2. **Evaluation Metrics**:\n",
    "    - **Accuracy**: 0.8282, indicating the proportion of correct predictions (both true positives and true negatives) out of all predictions.\n",
    "    - **Sensitivity (Recall)**: 0.4471, measuring the ability of the model to correctly identify malignant tumors (true positives).\n",
    "    - **Specificity**: 0.9344, measuring the ability of the model to correctly identify benign tumors (true negatives).\n",
    "    - **Cohen's Kappa**: 0.4308, indicating the agreement between predicted and true labels, adjusted for chance.\n"
   ]
  },
  {
   "cell_type": "code",
   "execution_count": 17,
   "id": "acknowledged-eligibility",
   "metadata": {},
   "outputs": [
    {
     "data": {
      "image/png": "[encoded data removed]",
      "text/plain": [
       "<Figure size 576x432 with 1 Axes>"
      ]
     },
     "metadata": {
      "needs_background": "light"
     },
     "output_type": "display_data"
    }
   ],
   "source": [
    "# Plot ROC curve\n",
    "plt.figure(figsize=(8, 6))\n",
    "plt.plot(train_fpr, train_tpr, color='blue', lw=2, label=f'ROC curve (area = {train_roc_auc:.2f})')\n",
    "plt.plot([0, 1], [0, 1], color='gray', linestyle='--')\n",
    "plt.xlim([0.0, 1.0])\n",
    "plt.ylim([0.0, 1.05])\n",
    "plt.xlabel('False Positive Rate')\n",
    "plt.ylabel('True Positive Rate')\n",
    "plt.title('Receiver Operating Characteristic (ROC) - Training Set')\n",
    "plt.legend(loc='lower right')\n",
    "plt.show()"
   ]
  },
  {
   "cell_type": "markdown",
   "id": "sensitive-yellow",
   "metadata": {},
   "source": [
    "# Metrics on test set"
   ]
  },
  {
   "cell_type": "code",
   "execution_count": 18,
   "id": "forbidden-graph",
   "metadata": {},
   "outputs": [
    {
     "data": {
      "text/plain": [
       "<function matplotlib.pyplot.title(label, fontdict=None, loc=None, pad=None, *, y=None, **kwargs)>"
      ]
     },
     "execution_count": 18,
     "metadata": {},
     "output_type": "execute_result"
    },
    {
     "data": {
      "image/png": "[encoded data removed]",
      "text/plain": [
       "<Figure size 576x432 with 1 Axes>"
      ]
     },
     "metadata": {
      "needs_background": "light"
     },
     "output_type": "display_data"
    }
   ],
   "source": [
    "# Calcolo delle metriche sul test set\n",
    "test_conf_matrix, test_accuracy, test_sensitivity, test_specificity, test_kappa, test_fpr, test_tpr, test_roc_auc = calculate_metrics(model, test_loader)\n",
    "\n",
    "# Plotting confusion matrix\n",
    "plt.figure(figsize=(8, 6))\n",
    "sns.heatmap(test_conf_matrix, annot=True, fmt='d', cmap='Blues', cbar=False)\n",
    "plt.xlabel('Predicted Labels')\n",
    "plt.ylabel('True Labels')\n",
    "plt.title"
   ]
  },
  {
   "cell_type": "code",
   "execution_count": 19,
   "id": "tired-bradford",
   "metadata": {},
   "outputs": [
    {
     "name": "stdout",
     "output_type": "stream",
     "text": [
      "Test Set Metrics:\n",
      "Accuracy: 0.8023\n",
      "Sensitivity (Recall): 0.4737\n",
      "Specificity: 0.8955\n",
      "Cohen's Kappa: 0.3913\n"
     ]
    }
   ],
   "source": [
    "# Print evaluation metrics\n",
    "print(\"Test Set Metrics:\")\n",
    "print(f\"Accuracy: {test_accuracy:.4f}\")\n",
    "print(f\"Sensitivity (Recall): {test_sensitivity:.4f}\")\n",
    "print(f\"Specificity: {test_specificity:.4f}\")\n",
    "print(f\"Cohen's Kappa: {test_kappa:.4f}\")"
   ]
  },
  {
   "cell_type": "code",
   "execution_count": 20,
   "id": "important-registration",
   "metadata": {},
   "outputs": [
    {
     "data": {
      "image/png": "[encoded data removed]",
      "text/plain": [
       "<Figure size 576x432 with 1 Axes>"
      ]
     },
     "metadata": {
      "needs_background": "light"
     },
     "output_type": "display_data"
    }
   ],
   "source": [
    "# Plot ROC curve\n",
    "plt.figure(figsize=(8, 6))\n",
    "plt.plot(test_fpr, test_tpr, color='blue', lw=2, label=f'ROC curve (area = {test_roc_auc:.2f})')\n",
    "plt.plot([0, 1], [0, 1], color='gray', linestyle='--')\n",
    "plt.xlim([0.0, 1.0])\n",
    "plt.ylim([0.0, 1.05])\n",
    "plt.xlabel('False Positive Rate')\n",
    "plt.ylabel('True Positive Rate')\n",
    "plt.title('Receiver Operating Characteristic (ROC) - Test Set')\n",
    "plt.legend(loc='lower right')\n",
    "plt.show()"
   ]
  },
  {
   "cell_type": "markdown",
   "id": "architectural-applicant",
   "metadata": {},
   "source": [
    "### Test Set Metrics and ROC Curve\n",
    "\n",
    "The provided code and output display the confusion matrix, several evaluation metrics, and the ROC curve for the test set of a classification model.\n",
    "\n",
    "1. **Confusion Matrix**:\n",
    "    - The confusion matrix visualizes the performance of the model by showing the true positive, true negative, false positive, and false negative values.\n",
    "    - In this case:\n",
    "        - True Negatives (60): Correctly predicted benign tumors.\n",
    "        - False Positives (7): Benign tumors incorrectly predicted as malignant.\n",
    "        - False Negatives (10): Malignant tumors incorrectly predicted as benign.\n",
    "        - True Positives (9): Correctly predicted malignant tumors.\n",
    "\n",
    "2. **Evaluation Metrics**:\n",
    "    - **Accuracy**: 0.8023, indicating the proportion of correct predictions (both true positives and true negatives) out of all predictions.\n",
    "    - **Sensitivity (Recall)**: 0.4737, measuring the ability of the model to correctly identify malignant tumors (true positives). This indicates the model's recall is moderate.\n",
    "    - **Specificity**: 0.8955, measuring the ability of the model to correctly identify benign tumors (true negatives). This indicates the model's specificity is quite high.\n",
    "    - **Cohen's Kappa**: 0.3913, indicating the agreement between predicted and true labels, adjusted for chance, which shows moderate agreement.\n",
    "\n",
    "### ROC Curve\n",
    "- The ROC (Receiver Operating Characteristic) curve plots the True Positive Rate (Sensitivity) against the False Positive Rate for various threshold settings.\n",
    "- The AUC (Area Under the Curve) is 0.69, which indicates the model's overall ability to discriminate between the classes is fair, but there is room for improvement.\n",
    "\n",
    "### Interpretation\n",
    "- **Accuracy**: The model has a decent overall accuracy on the test set, indicating it makes correct predictions a majority of the time.\n",
    "- **Sensitivity (Recall)**: The relatively low sensitivity suggests the model has difficulty correctly identifying all malignant tumors, which is critical in medical diagnostics.\n",
    "- **Specificity**: The high specificity means the model is good at correctly identifying benign tumors, minimizing false positives.\n",
    "- **Cohen's Kappa**: The moderate Kappa score suggests that there is some agreement between the predicted and actual labels beyond chance, but it is not very strong.\n",
    "- **ROC and AUC**: The ROC curve and the AUC of 0.69 indicate the model's performance is fair but not excellent. The model can distinguish between the classes better than random guess\n"
   ]
  },
  {
   "cell_type": "markdown",
   "id": "headed-pencil",
   "metadata": {},
   "source": [
    "# CNN Model with 20 epoch"
   ]
  },
  {
   "cell_type": "code",
   "execution_count": 6,
   "id": "theoretical-spine",
   "metadata": {},
   "outputs": [],
   "source": [
    "# Inizializzazione del modello, della loss function e dell'optimizer\n",
    "model_20 = SimpleCNN()\n",
    "criterion = nn.BCELoss()\n",
    "optimizer = optim.Adam(model_20.parameters(), lr=0.001)"
   ]
  },
  {
   "cell_type": "code",
   "execution_count": 7,
   "id": "sophisticated-entity",
   "metadata": {},
   "outputs": [],
   "source": [
    "# Funzione per addestrare il modello per 20 epoche\n",
    "def train_model_20(model_20, train_loader, val_loader, criterion, optimizer, num_epochs=20):\n",
    "    train_loss_history_20 = []\n",
    "    val_loss_history_20 = []\n",
    "    train_acc_history_20 = []\n",
    "    val_acc_history_20 = []\n",
    "    \n",
    "    for epoch in range(num_epochs):\n",
    "        model_20.train()\n",
    "        running_loss = 0.0\n",
    "        correct = 0\n",
    "        total = 0\n",
    "        \n",
    "        for inputs, labels in train_loader:\n",
    "            optimizer.zero_grad()\n",
    "            outputs = model_20(inputs).squeeze()\n",
    "            loss = criterion(outputs, labels.float())\n",
    "            loss.backward()\n",
    "            optimizer.step()\n",
    "            \n",
    "            running_loss += loss.item() * inputs.size(0)\n",
    "            predicted = (outputs > 0.5).float()\n",
    "            correct += (predicted == labels).sum().item()\n",
    "            total += labels.size(0)\n",
    "        \n",
    "        epoch_loss = running_loss / len(train_loader.dataset)\n",
    "        epoch_acc = correct / total\n",
    "        train_loss_history_20.append(epoch_loss)\n",
    "        train_acc_history_20.append(epoch_acc)\n",
    "        \n",
    "        model_20.eval()\n",
    "        running_loss = 0.0\n",
    "        correct = 0\n",
    "        total = 0\n",
    "        \n",
    "        with torch.no_grad():\n",
    "            for inputs, labels in val_loader:\n",
    "                outputs = model_20(inputs).squeeze()\n",
    "                loss = criterion(outputs, labels.float())\n",
    "                running_loss += loss.item() * inputs.size(0)\n",
    "                predicted = (outputs > 0.5).float()\n",
    "                correct += (predicted == labels).sum().item()\n",
    "                total += labels.size(0)\n",
    "        \n",
    "        epoch_loss = running_loss / len(val_loader.dataset)\n",
    "        epoch_acc = correct / total\n",
    "        val_loss_history_20.append(epoch_loss)\n",
    "        val_acc_history_20.append(epoch_acc)\n",
    "        \n",
    "        print(f'Epoch {epoch+1}/{num_epochs}, '\n",
    "              f'Train Loss: {train_loss_history_20[-1]:.4f}, Train Acc: {train_acc_history_20[-1]:.4f}, '\n",
    "              f'Val Loss: {val_loss_history_20[-1]:.4f}, Val Acc: {val_acc_history_20[-1]:.4f}')\n",
    "    \n",
    "    return train_loss_history_20, train_acc_history_20, val_loss_history_20, val_acc_history_20\n"
   ]
  },
  {
   "cell_type": "code",
   "execution_count": 8,
   "id": "prime-brand",
   "metadata": {},
   "outputs": [
    {
     "name": "stdout",
     "output_type": "stream",
     "text": [
      "Epoch 1/20, Train Loss: 0.6971, Train Acc: 0.7487, Val Loss: 0.6112, Val Acc: 0.7831\n",
      "Epoch 2/20, Train Loss: 0.5554, Train Acc: 0.7821, Val Loss: 0.5191, Val Acc: 0.7831\n",
      "Epoch 3/20, Train Loss: 0.5266, Train Acc: 0.7821, Val Loss: 0.5019, Val Acc: 0.7831\n",
      "Epoch 4/20, Train Loss: 0.5134, Train Acc: 0.7821, Val Loss: 0.5149, Val Acc: 0.7831\n",
      "Epoch 5/20, Train Loss: 0.4875, Train Acc: 0.7821, Val Loss: 0.4457, Val Acc: 0.7831\n",
      "Epoch 6/20, Train Loss: 0.4661, Train Acc: 0.7821, Val Loss: 0.4443, Val Acc: 0.7952\n",
      "Epoch 7/20, Train Loss: 0.4409, Train Acc: 0.7974, Val Loss: 0.4270, Val Acc: 0.7711\n",
      "Epoch 8/20, Train Loss: 0.4672, Train Acc: 0.8154, Val Loss: 0.4120, Val Acc: 0.8072\n",
      "Epoch 9/20, Train Loss: 0.4662, Train Acc: 0.7974, Val Loss: 0.3961, Val Acc: 0.8313\n",
      "Epoch 10/20, Train Loss: 0.4235, Train Acc: 0.8205, Val Loss: 0.3760, Val Acc: 0.8313\n",
      "Epoch 11/20, Train Loss: 0.4245, Train Acc: 0.8205, Val Loss: 0.4512, Val Acc: 0.8193\n",
      "Epoch 12/20, Train Loss: 0.4215, Train Acc: 0.8154, Val Loss: 0.3776, Val Acc: 0.8313\n",
      "Epoch 13/20, Train Loss: 0.4085, Train Acc: 0.8333, Val Loss: 0.4503, Val Acc: 0.7952\n",
      "Epoch 14/20, Train Loss: 0.4197, Train Acc: 0.8256, Val Loss: 0.3868, Val Acc: 0.8193\n",
      "Epoch 15/20, Train Loss: 0.3838, Train Acc: 0.8538, Val Loss: 0.4530, Val Acc: 0.8193\n",
      "Epoch 16/20, Train Loss: 0.4348, Train Acc: 0.8205, Val Loss: 0.4039, Val Acc: 0.8072\n",
      "Epoch 17/20, Train Loss: 0.4031, Train Acc: 0.8333, Val Loss: 0.4119, Val Acc: 0.8193\n",
      "Epoch 18/20, Train Loss: 0.3689, Train Acc: 0.8513, Val Loss: 0.4343, Val Acc: 0.8313\n",
      "Epoch 19/20, Train Loss: 0.3711, Train Acc: 0.8641, Val Loss: 0.4571, Val Acc: 0.7952\n",
      "Epoch 20/20, Train Loss: 0.3729, Train Acc: 0.8462, Val Loss: 0.5409, Val Acc: 0.8193\n"
     ]
    }
   ],
   "source": [
    "# Addestramento del modello per 20 epoche\n",
    "train_loss_20, train_acc_20, val_loss_20, val_acc_20 = train_model_20(model_20, train_loader, val_loader, criterion, optimizer, num_epochs=20)"
   ]
  },
  {
   "cell_type": "code",
   "execution_count": 9,
   "id": "regular-parameter",
   "metadata": {},
   "outputs": [
    {
     "data": {
      "image/png": "[encoded data removed]",
      "text/plain": [
       "<Figure size 432x288 with 1 Axes>"
      ]
     },
     "metadata": {
      "needs_background": "light"
     },
     "output_type": "display_data"
    },
    {
     "data": {
      "image/png": "[encoded data removed]",
      "text/plain": [
       "<Figure size 432x288 with 1 Axes>"
      ]
     },
     "metadata": {
      "needs_background": "light"
     },
     "output_type": "display_data"
    }
   ],
   "source": [
    "# Plotting training and validation accuracy for the model trained for 20 epochs\n",
    "plt.plot(train_acc_20, label='Training Accuracy')\n",
    "plt.plot(val_acc_20, label='Validation Accuracy')\n",
    "plt.xlabel('Epoch')\n",
    "plt.ylabel('Accuracy')\n",
    "plt.title('Training and Validation Accuracy (20 epochs)')\n",
    "plt.legend()\n",
    "plt.show()\n",
    "\n",
    "# Plotting training and validation loss for the model trained for 20 epochs\n",
    "plt.plot(train_loss_20, label='Training Loss')\n",
    "plt.plot(val_loss_20, label='Validation Loss')\n",
    "plt.xlabel('Epoch')\n",
    "plt.ylabel('Loss')\n",
    "plt.title('Training and Validation Loss (20 epochs)')\n",
    "plt.legend()\n",
    "plt.show()"
   ]
  },
  {
   "cell_type": "markdown",
   "id": "homeless-cooking",
   "metadata": {},
   "source": [
    "# Metrics on training set "
   ]
  },
  {
   "cell_type": "code",
   "execution_count": 10,
   "id": "exotic-count",
   "metadata": {},
   "outputs": [],
   "source": [
    "def calculate_metrics(model_20, loader_20, threshold=0.5):\n",
    "    model_20.eval()\n",
    "    true_labels = []\n",
    "    pred_labels = []\n",
    "    probabilities = []\n",
    "    \n",
    "    with torch.no_grad():\n",
    "        for inputs, labels in loader_20:\n",
    "            outputs = model_20(inputs).squeeze()\n",
    "            probabilities.extend(outputs.tolist())\n",
    "            predicted = (outputs > threshold).float()\n",
    "            true_labels.extend(labels.tolist())\n",
    "            pred_labels.extend(predicted.tolist())\n",
    "    \n",
    "    true_labels = np.array(true_labels)\n",
    "    pred_labels = np.array(pred_labels)\n",
    "    probabilities = np.array(probabilities)\n",
    "    \n",
    "    conf_matrix = confusion_matrix(true_labels, pred_labels)\n",
    "    accuracy = accuracy_score(true_labels, pred_labels)\n",
    "    sensitivity = recall_score(true_labels, pred_labels)\n",
    "    tn, fp, fn, tp = conf_matrix.ravel()\n",
    "    specificity = tn / (tn + fp)\n",
    "    kappa = cohen_kappa_score(true_labels, pred_labels)\n",
    "    fpr, tpr, _ = roc_curve(true_labels, probabilities)\n",
    "    roc_auc = auc(fpr, tpr)\n",
    "    \n",
    "    return conf_matrix, accuracy, sensitivity, specificity, kappa, fpr, tpr, roc_auc"
   ]
  },
  {
   "cell_type": "code",
   "execution_count": 12,
   "id": "rental-departure",
   "metadata": {},
   "outputs": [],
   "source": [
    "train_conf_matrix, train_accuracy, train_sensitivity, train_specificity, train_kappa, train_fpr, train_tpr, train_roc_auc = calculate_metrics(model_20, train_loader)"
   ]
  },
  {
   "cell_type": "code",
   "execution_count": 13,
   "id": "final-bermuda",
   "metadata": {},
   "outputs": [
    {
     "data": {
      "image/png": "[encoded data removed]",
      "text/plain": [
       "<Figure size 576x432 with 1 Axes>"
      ]
     },
     "metadata": {
      "needs_background": "light"
     },
     "output_type": "display_data"
    }
   ],
   "source": [
    "# Plotting confusion matrix\n",
    "plt.figure(figsize=(8, 6))\n",
    "sns.heatmap(train_conf_matrix, annot=True, fmt='d', cmap='Blues', cbar=False)\n",
    "plt.xlabel('Predicted Labels')\n",
    "plt.ylabel('True Labels')\n",
    "plt.title('Confusion Matrix - Training Set')\n",
    "plt.show()"
   ]
  },
  {
   "cell_type": "code",
   "execution_count": 14,
   "id": "studied-cartridge",
   "metadata": {},
   "outputs": [
    {
     "name": "stdout",
     "output_type": "stream",
     "text": [
      "Training Set Metrics:\n",
      "Accuracy: 0.8487\n",
      "Sensitivity (Recall): 0.3412\n",
      "Specificity: 0.9902\n",
      "Cohen's Kappa: 0.4275\n"
     ]
    }
   ],
   "source": [
    "# Print evaluation metrics\n",
    "print(\"Training Set Metrics:\")\n",
    "print(f\"Accuracy: {train_accuracy:.4f}\")\n",
    "print(f\"Sensitivity (Recall): {train_sensitivity:.4f}\")\n",
    "print(f\"Specificity: {train_specificity:.4f}\")\n",
    "print(f\"Cohen's Kappa: {train_kappa:.4f}\")"
   ]
  },
  {
   "cell_type": "markdown",
   "id": "amber-christopher",
   "metadata": {},
   "source": [
    "# Metrics on test set"
   ]
  },
  {
   "cell_type": "code",
   "execution_count": 16,
   "id": "recorded-bermuda",
   "metadata": {},
   "outputs": [
    {
     "data": {
      "text/plain": [
       "<function matplotlib.pyplot.title(label, fontdict=None, loc=None, pad=None, *, y=None, **kwargs)>"
      ]
     },
     "execution_count": 16,
     "metadata": {},
     "output_type": "execute_result"
    },
    {
     "data": {
      "image/png": "[encoded data removed]",
      "text/plain": [
       "<Figure size 576x432 with 1 Axes>"
      ]
     },
     "metadata": {
      "needs_background": "light"
     },
     "output_type": "display_data"
    }
   ],
   "source": [
    "# Calcolo delle metriche sul test set\n",
    "test_conf_matrix, test_accuracy, test_sensitivity, test_specificity, test_kappa, test_fpr, test_tpr, test_roc_auc = calculate_metrics(model_20, test_loader)\n",
    "\n",
    "# Plotting confusion matrix\n",
    "plt.figure(figsize=(8, 6))\n",
    "sns.heatmap(test_conf_matrix, annot=True, fmt='d', cmap='Blues', cbar=False)\n",
    "plt.xlabel('Predicted Labels')\n",
    "plt.ylabel('True Labels')\n",
    "plt.title"
   ]
  },
  {
   "cell_type": "code",
   "execution_count": 17,
   "id": "hispanic-bahrain",
   "metadata": {},
   "outputs": [
    {
     "name": "stdout",
     "output_type": "stream",
     "text": [
      "Test Set Metrics:\n",
      "Accuracy: 0.8140\n",
      "Sensitivity (Recall): 0.1579\n",
      "Specificity: 1.0000\n",
      "Cohen's Kappa: 0.2261\n"
     ]
    }
   ],
   "source": [
    "# Print evaluation metrics\n",
    "print(\"Test Set Metrics:\")\n",
    "print(f\"Accuracy: {test_accuracy:.4f}\")\n",
    "print(f\"Sensitivity (Recall): {test_sensitivity:.4f}\")\n",
    "print(f\"Specificity: {test_specificity:.4f}\")\n",
    "print(f\"Cohen's Kappa: {test_kappa:.4f}\")"
   ]
  },
  {
   "cell_type": "markdown",
   "id": "reliable-pitch",
   "metadata": {},
   "source": [
    "### Test Set Metrics after Training the Neural Network for 20 Epochs\n",
    "\n",
    "After training the neural network for 20 epochs, we observe the following changes in the test set metrics:\n",
    "\n",
    "- **Accuracy** has slightly improved to 0.8140 from the previous value of 0.8023. This indicates a marginal increase in the overall correct predictions.\n",
    "- **Sensitivity (Recall)** has decreased significantly to 0.1579 compared to 0.4737 after 10 epochs. This is a concerning drop, indicating that the model has become worse at correctly identifying malignant tumors. Sensitivity is crucial in medical diagnostics to ensure malignant cases are not missed, and this drop suggests the model is failing in this aspect.\n",
    "- **Specificity** has improved to 1.0000, meaning the model is now perfectly identifying all benign tumors with no false positives. While high specificity is desirable, the drastic improvement here may indicate overfitting to the benign class at the expense of identifying malignant cases.\n",
    "- **Cohen's Kappa** has slightly increased to 0.2261 from 0.3913, indicating a slight improvement in the agreement between predicted and true labels, but it still suggests low agreement beyond chance.\n",
    "\n",
    "### Interpretation\n",
    "\n",
    "The overall accuracy has seen a marginal improvement, but the sensitivity has significantly deteriorated. This suggests that while the model has become very good at identifying benign tumors (as indicated by the perfect specificity), it has become much worse at identifying malignant tumors, which is critical in the context of cancer diagnosis.\n",
    "\n",
    "The perfect specificity combined with low sensitivity indicates a bias towards predicting benign tumors correctly while missing malignant ones, a potentially dangerous situation in a real-world medical application.\n",
    "\n",
    "The slight increase in Cohen's Kappa suggests a minor improvement in the model's overall performance, but the drop in sensitivity outweighs this benefit.\n",
    "\n",
    "### Conclusion\n",
    "\n",
    "Training the model for 20 epochs has led to overfitting on the benign class, as evidenced by the perfect specificity and poor sensitivity. This indicates that the model might be memorizing the training data rather than generalizing well to unseen data. Further steps should include techniques to balance the training, such as using more balanced datasets, implementing regularization, or experimenting with different model architectures or hyperparameters to improve sensitivity without sacrificing specificity.\n",
    "\n",
    "Additionally, class imbalance might be a problem contributing to these results. Addressing this imbalance through techniques such as oversampling the minority class, undersampling the majority class, or using class-weighted loss functions could help improve the model's performance on malignant cases.\n"
   ]
  }
 ],
 "metadata": {
  "kernelspec": {
   "display_name": "Python 3",
   "language": "python",
   "name": "python3"
  },
  "language_info": {
   "codemirror_mode": {
    "name": "ipython",
    "version": 3
   },
   "file_extension": ".py",
   "mimetype": "text/x-python",
   "name": "python",
   "nbconvert_exporter": "python",
   "pygments_lexer": "ipython3",
   "version": "3.8.5"
  }
 },
 "nbformat": 4,
 "nbformat_minor": 5
}
