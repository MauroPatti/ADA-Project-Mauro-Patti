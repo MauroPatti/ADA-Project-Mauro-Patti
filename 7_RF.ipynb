{
 "cells": [
  {
   "cell_type": "markdown",
   "id": "developed-salvation",
   "metadata": {},
   "source": [
    "# Bagging, Random Forest and Boosting\n",
    "\n",
    "In machine learning, improving the accuracy and robustness of predictive models is crucial. Four key concepts commonly applied in ensemble learning are bagging, random forests, and boosting. Each technique offers unique strategies to enhance the accuracy and generalization of models.\n",
    "\n",
    "### Bagging (Bootstrap Aggregating):\n",
    "Bagging reduces variance by generating multiple instances of a base model using random subsets of the training dataset. These models are trained independently, and their predictions are aggregated to produce a final prediction. Bagging improves model stability and generalization by leveraging the diversity of independently trained models.\n",
    "\n",
    "### Random Forests:\n",
    "Random forests extend bagging by introducing additional randomness during the construction of each decision tree. This randomness further enhances the model's ability to generalize to unseen data, making random forests a powerful ensemble learning technique.\n",
    "\n",
    "### Boosting:\n",
    "Boosting sequentially builds a series of base models, with each subsequent model attempting to correct the errors of its predecessor. Instances that are misclassified by the current model are assigned higher weights, emphasizing their importance in subsequent iterations. Boosting aims to reduce both bias and variance, leading to improved model performance.\n",
    "\n",
    "In this notebook, we will explore these concepts in more detail and implement them using Python's scikit-learn library. We will train and evaluate models using bagging, random forests, and boosting, demonstrating their effectiveness in various machine learning tasks. Let's dive into the code to see these techniques in action."
   ]
  },
  {
   "cell_type": "code",
   "execution_count": 2,
   "id": "hydraulic-karaoke",
   "metadata": {},
   "outputs": [],
   "source": [
    "#Import all the libraries needed in the project\n",
    "import pandas as pd\n",
    "import numpy as np\n",
    "import matplotlib.pyplot as plt\n",
    "import seaborn as sns\n",
    "import statsmodels.api as sm\n",
    "\n",
    "# Preprocessing\n",
    "from sklearn.preprocessing import StandardScaler\n",
    "\n",
    "# Model Selection\n",
    "from sklearn.model_selection import train_test_split, cross_val_score, KFold, GridSearchCV\n",
    "from sklearn.linear_model import Lasso\n",
    "\n",
    "# Metrics\n",
    "from sklearn.metrics import confusion_matrix, accuracy_score, precision_score\n",
    "from sklearn.metrics import recall_score, f1_score, classification_report\n",
    "from sklearn.metrics import cohen_kappa_score\n",
    "from sklearn.metrics import log_loss\n",
    "from sklearn.metrics import roc_curve, auc\n",
    "from sklearn.metrics import roc_curve, roc_auc_score\n",
    "\n",
    "# Models\n",
    "from sklearn.linear_model import LogisticRegression\n",
    "from sklearn.ensemble import RandomForestClassifier\n",
    "from sklearn.svm import SVC\n",
    "from sklearn.tree import DecisionTreeClassifier\n",
    "from sklearn.neural_network import MLPClassifier\n",
    "from sklearn.model_selection import learning_curve\n",
    "from sklearn.pipeline import make_pipeline\n",
    "\n",
    "# Dimensionality Reduction\n",
    "from sklearn.decomposition import PCA\n",
    "\n",
    "# Clustering\n",
    "from sklearn.cluster import KMeans\n",
    "from sklearn.metrics import silhouette_score"
   ]
  },
  {
   "cell_type": "code",
   "execution_count": 3,
   "id": "representative-school",
   "metadata": {},
   "outputs": [],
   "source": [
    "#Downloading the data, the training and the test set\n",
    "data = pd.read_csv(\"Data.csv\")\n",
    "data_test = pd.read_csv(\"test_set.csv\") \n",
    "data_train = pd.read_csv(\"train_set.csv\")\n",
    "\n",
    "# Carica il dataset PCA completo\n",
    "data_pca = pd.read_csv('data_pca.csv')\n",
    "data_train_pca = pd.read_csv('train_set_pca.csv')\n",
    "data_test_pca = pd.read_csv('test_set_pca.csv')"
   ]
  },
  {
   "cell_type": "code",
   "execution_count": 4,
   "id": "interim-choice",
   "metadata": {},
   "outputs": [],
   "source": [
    "#Separating the feature from the outcome\n",
    "X_train = data_train.drop('diagnosis', axis=1)\n",
    "y_train = data_train['diagnosis']\n",
    "X_test = data_test.drop('diagnosis', axis=1)\n",
    "y_test = data_test['diagnosis']\n"
   ]
  },
  {
   "cell_type": "code",
   "execution_count": 5,
   "id": "deluxe-minimum",
   "metadata": {},
   "outputs": [],
   "source": [
    "X_train_pca = data_train_pca.drop('diagnosis', axis=1)\n",
    "y_train_pca = data_train_pca['diagnosis']\n",
    "X_test_pca = data_test.drop('diagnosis', axis=1)\n",
    "y_test_pca = data_test['diagnosis']"
   ]
  },
  {
   "cell_type": "markdown",
   "id": "equivalent-sacramento",
   "metadata": {},
   "source": [
    "## Bagging of Trees"
   ]
  },
  {
   "cell_type": "code",
   "execution_count": 21,
   "id": "alone-midnight",
   "metadata": {},
   "outputs": [
    {
     "name": "stdout",
     "output_type": "stream",
     "text": [
      "Bagging Accuracy: 0.9627906976744186\n"
     ]
    }
   ],
   "source": [
    "from sklearn.ensemble import BaggingClassifier\n",
    "from sklearn.tree import DecisionTreeClassifier\n",
    "from sklearn.metrics import accuracy_score\n",
    "\n",
    "# Define the base decision tree model\n",
    "base_model = DecisionTreeClassifier(random_state=87)\n",
    "\n",
    "# Initialize the BaggingClassifier\n",
    "bagging_model = BaggingClassifier(base_estimator=base_model, n_estimators=50, random_state=87)\n",
    "\n",
    "# Train the BaggingClassifier on the training data\n",
    "bagging_model.fit(X_train, y_train)\n",
    "\n",
    "# Predict on the testing data\n",
    "y_pred_bagging = bagging_model.predict(X_test)\n",
    "\n",
    "# Calculate accuracy\n",
    "accuracy_bagging = accuracy_score(y_test, y_pred_bagging)\n",
    "print(\"Bagging Accuracy:\", accuracy_bagging)\n"
   ]
  },
  {
   "cell_type": "markdown",
   "id": "liquid-guitar",
   "metadata": {},
   "source": [
    "## Random Forest"
   ]
  },
  {
   "cell_type": "code",
   "execution_count": 22,
   "id": "assisted-ratio",
   "metadata": {},
   "outputs": [
    {
     "name": "stdout",
     "output_type": "stream",
     "text": [
      "Random Forest Accuracy: 0.9674418604651163\n"
     ]
    }
   ],
   "source": [
    "from sklearn.ensemble import RandomForestClassifier\n",
    "from sklearn.metrics import accuracy_score\n",
    "\n",
    "# Initialize the RandomForestClassifier with default parameters\n",
    "random_forest_model = RandomForestClassifier(n_estimators=50, random_state=87)\n",
    "\n",
    "# Train the RandomForestClassifier on the training data\n",
    "random_forest_model.fit(X_train, y_train)\n",
    "\n",
    "# Predict on the testing data\n",
    "y_pred_rf = random_forest_model.predict(X_test)\n",
    "\n",
    "# Calculate accuracy\n",
    "accuracy_rf = accuracy_score(y_test, y_pred_rf)\n",
    "print(\"Random Forest Accuracy:\", accuracy_rf)\n"
   ]
  },
  {
   "cell_type": "code",
   "execution_count": 23,
   "id": "seventh-release",
   "metadata": {},
   "outputs": [
    {
     "name": "stdout",
     "output_type": "stream",
     "text": [
      "Bagging Model Metrics:\n",
      "Train Set Accuracy: 1.0\n",
      "Train Set Specificity: 1.0\n",
      "Train Set Sensitivity (Recall): 1.0\n",
      "Train Set Confusion Matrix:\n",
      "[[253   0]\n",
      " [  0 246]]\n",
      "\n",
      "Test Set Accuracy: 0.9627906976744186\n",
      "Test Set Specificity: 0.9423076923076923\n",
      "Test Set Sensitivity (Recall): 0.9819819819819819\n",
      "Test Set Confusion Matrix:\n",
      "[[ 98   6]\n",
      " [  2 109]]\n",
      "\n",
      "Random Forest Model Metrics:\n",
      "Train Set Accuracy: 1.0\n",
      "Train Set Specificity: 1.0\n",
      "Train Set Sensitivity (Recall): 1.0\n",
      "Train Set Confusion Matrix:\n",
      "[[253   0]\n",
      " [  0 246]]\n",
      "\n",
      "Test Set Accuracy: 0.9674418604651163\n",
      "Test Set Specificity: 0.9326923076923077\n",
      "Test Set Sensitivity (Recall): 1.0\n",
      "Test Set Confusion Matrix:\n",
      "[[ 97   7]\n",
      " [  0 111]]\n"
     ]
    }
   ],
   "source": [
    "from sklearn.metrics import accuracy_score, confusion_matrix\n",
    "\n",
    "# Calculate metrics for Bagging model\n",
    "print(\"Bagging Model Metrics:\")\n",
    "# Train set metrics\n",
    "y_train_pred_bagging = bagging_model.predict(X_train)\n",
    "train_accuracy_bagging = accuracy_score(y_train, y_train_pred_bagging)\n",
    "tn_train_bagging, fp_train_bagging, fn_train_bagging, tp_train_bagging = confusion_matrix(y_train, y_train_pred_bagging).ravel()\n",
    "train_specificity_bagging = tn_train_bagging / (tn_train_bagging + fp_train_bagging)\n",
    "train_sensitivity_bagging = tp_train_bagging / (tp_train_bagging + fn_train_bagging)\n",
    "print(\"Train Set Accuracy:\", train_accuracy_bagging)\n",
    "print(\"Train Set Specificity:\", train_specificity_bagging)\n",
    "print(\"Train Set Sensitivity (Recall):\", train_sensitivity_bagging)\n",
    "print(\"Train Set Confusion Matrix:\")\n",
    "print(confusion_matrix(y_train, y_train_pred_bagging))\n",
    "\n",
    "# Test set metrics\n",
    "y_test_pred_bagging = bagging_model.predict(X_test)\n",
    "test_accuracy_bagging = accuracy_score(y_test, y_test_pred_bagging)\n",
    "tn_test_bagging, fp_test_bagging, fn_test_bagging, tp_test_bagging = confusion_matrix(y_test, y_test_pred_bagging).ravel()\n",
    "test_specificity_bagging = tn_test_bagging / (tn_test_bagging + fp_test_bagging)\n",
    "test_sensitivity_bagging = tp_test_bagging / (tp_test_bagging + fn_test_bagging)\n",
    "print(\"\\nTest Set Accuracy:\", test_accuracy_bagging)\n",
    "print(\"Test Set Specificity:\", test_specificity_bagging)\n",
    "print(\"Test Set Sensitivity (Recall):\", test_sensitivity_bagging)\n",
    "print(\"Test Set Confusion Matrix:\")\n",
    "print(confusion_matrix(y_test, y_test_pred_bagging))\n",
    "\n",
    "# Calculate metrics for Random Forest model\n",
    "print(\"\\nRandom Forest Model Metrics:\")\n",
    "# Train set metrics\n",
    "y_train_pred_rf = random_forest_model.predict(X_train)\n",
    "train_accuracy_rf = accuracy_score(y_train, y_train_pred_rf)\n",
    "tn_train_rf, fp_train_rf, fn_train_rf, tp_train_rf = confusion_matrix(y_train, y_train_pred_rf).ravel()\n",
    "train_specificity_rf = tn_train_rf / (tn_train_rf + fp_train_rf)\n",
    "train_sensitivity_rf = tp_train_rf / (tp_train_rf + fn_train_rf)\n",
    "print(\"Train Set Accuracy:\", train_accuracy_rf)\n",
    "print(\"Train Set Specificity:\", train_specificity_rf)\n",
    "print(\"Train Set Sensitivity (Recall):\", train_sensitivity_rf)\n",
    "print(\"Train Set Confusion Matrix:\")\n",
    "print(confusion_matrix(y_train, y_train_pred_rf))\n",
    "\n",
    "# Test set metrics\n",
    "y_test_pred_rf = random_forest_model.predict(X_test)\n",
    "test_accuracy_rf = accuracy_score(y_test, y_test_pred_rf)\n",
    "tn_test_rf, fp_test_rf, fn_test_rf, tp_test_rf = confusion_matrix(y_test, y_test_pred_rf).ravel()\n",
    "test_specificity_rf = tn_test_rf / (tn_test_rf + fp_test_rf)\n",
    "test_sensitivity_rf = tp_test_rf / (tp_test_rf + fn_test_rf)\n",
    "print(\"\\nTest Set Accuracy:\", test_accuracy_rf)\n",
    "print(\"Test Set Specificity:\", test_specificity_rf)\n",
    "print(\"Test Set Sensitivity (Recall):\", test_sensitivity_rf)\n",
    "print(\"Test Set Confusion Matrix:\")\n",
    "print(confusion_matrix(y_test, y_test_pred_rf))\n"
   ]
  },
  {
   "cell_type": "code",
   "execution_count": 24,
   "id": "compatible-privilege",
   "metadata": {},
   "outputs": [
    {
     "data": {
      "image/png": "[encoded data removed]",
      "text/plain": [
       "<Figure size 432x288 with 1 Axes>"
      ]
     },
     "metadata": {
      "needs_background": "light"
     },
     "output_type": "display_data"
    }
   ],
   "source": [
    "import numpy as np\n",
    "import matplotlib.pyplot as plt\n",
    "\n",
    "# Lista dei numeri di alberi da testare\n",
    "num_trees = [10, 20, 30, 40, 50, 60, 70, 80, 90, 100]\n",
    "\n",
    "# List to store errors for Bagging and Random Forest\n",
    "errors_bagging = []\n",
    "errors_rf = []\n",
    "\n",
    "# Calculate error for each number of trees\n",
    "for n in num_trees:\n",
    "    # Initialize Bagging and Random Forest models with n trees\n",
    "    bagging_model = BaggingClassifier(base_estimator=base_model, n_estimators=n, random_state=60)\n",
    "    random_forest_model = RandomForestClassifier(n_estimators=n, random_state=60)\n",
    "    \n",
    "    # Train Bagging model\n",
    "    bagging_model.fit(X_train, y_train)\n",
    "    # Predict on test data\n",
    "    y_pred_bagging = bagging_model.predict(X_test)\n",
    "    # Calculate error\n",
    "    error_bagging = 1 - accuracy_score(y_test, y_pred_bagging)\n",
    "    errors_bagging.append(error_bagging)\n",
    "    \n",
    "    # Train Random Forest model\n",
    "    random_forest_model.fit(X_train, y_train)\n",
    "    # Predict on test data\n",
    "    y_pred_rf = random_forest_model.predict(X_test)\n",
    "    # Calculate error\n",
    "    error_rf = 1 - accuracy_score(y_test, y_pred_rf)\n",
    "    errors_rf.append(error_rf)\n",
    "\n",
    "# Plot errors for Bagging and Random Forest\n",
    "plt.plot(num_trees, errors_bagging, label='Bagging')\n",
    "plt.plot(num_trees, errors_rf, label='Random Forest')\n",
    "plt.xlabel('Number of Trees')\n",
    "plt.ylabel('Error')\n",
    "plt.title('Error vs. Number of Trees')\n",
    "plt.legend()\n",
    "plt.show()"
   ]
  },
  {
   "cell_type": "code",
   "execution_count": 40,
   "id": "russian-crossing",
   "metadata": {},
   "outputs": [
    {
     "data": {
      "image/png": "[encoded data removed]",
      "text/plain": [
       "<Figure size 432x288 with 1 Axes>"
      ]
     },
     "metadata": {
      "needs_background": "light"
     },
     "output_type": "display_data"
    }
   ],
   "source": [
    "from sklearn.metrics import accuracy_score\n",
    "\n",
    "# Initialize lists to store accuracy and ccp_alpha values\n",
    "ccp_alphas = []\n",
    "accuracies = []\n",
    "\n",
    "# Train Random Forest model with different ccp_alpha values\n",
    "for ccp_alpha in np.linspace(0, 0.05, 10):  # Try different ccp_alpha values\n",
    "    # Initialize Random Forest model with current ccp_alpha\n",
    "    random_forest_model = RandomForestClassifier(n_estimators=50, random_state=78, ccp_alpha=ccp_alpha)\n",
    "    \n",
    "    # Train the model\n",
    "    random_forest_model.fit(X_train, y_train)\n",
    "    \n",
    "    # Predict on test data\n",
    "    y_pred_rf = random_forest_model.predict(X_test)\n",
    "    \n",
    "    # Calculate accuracy and store ccp_alpha and accuracy values\n",
    "    accuracy = accuracy_score(y_test, y_pred_rf)\n",
    "    accuracies.append(accuracy)\n",
    "    ccp_alphas.append(ccp_alpha)\n",
    "\n",
    "# Plot accuracy vs. ccp_alpha\n",
    "plt.plot(ccp_alphas, accuracies, marker='o', linestyle='-')\n",
    "plt.xlabel('ccp_alpha')\n",
    "plt.ylabel('Accuracy')\n",
    "plt.title('Accuracy vs. ccp_alpha for Random Forest')\n",
    "plt.show()\n"
   ]
  },
  {
   "cell_type": "code",
   "execution_count": 41,
   "id": "abstract-ethernet",
   "metadata": {},
   "outputs": [
    {
     "name": "stdout",
     "output_type": "stream",
     "text": [
      "Random Forest Accuracy with chosen alpha: 0.9255813953488372\n"
     ]
    }
   ],
   "source": [
    "# Choose a specific value of ccp_alpha\n",
    "chosen_alpha = 0.05  # Change this value as desired\n",
    "\n",
    "# Initialize Random Forest model with the chosen ccp_alpha for pruning\n",
    "chosen_alpha_random_forest_model = RandomForestClassifier(n_estimators= 10, random_state=78, ccp_alpha=0.05)\n",
    "\n",
    "# Train the model\n",
    "chosen_alpha_random_forest_model.fit(X_train, y_train)\n",
    "\n",
    "# Evaluate the model\n",
    "y_pred_chosen_alpha = chosen_alpha_random_forest_model.predict(X_test)\n",
    "accuracy_chosen_alpha = accuracy_score(y_test, y_pred_chosen_alpha)\n",
    "print(\"Random Forest Accuracy with chosen alpha:\", accuracy_chosen_alpha)\n"
   ]
  },
  {
   "cell_type": "code",
   "execution_count": 43,
   "id": "distant-number",
   "metadata": {},
   "outputs": [
    {
     "name": "stdout",
     "output_type": "stream",
     "text": [
      "Bagging (10 Trees) Accuracy: 0.958139534883721\n"
     ]
    }
   ],
   "source": [
    "# Define the base decision tree model\n",
    "base_model = DecisionTreeClassifier(random_state=87)\n",
    "\n",
    "# Initialize the BaggingClassifier with 10 trees\n",
    "bagging_model_10 = BaggingClassifier(base_estimator=base_model, n_estimators=10, random_state=87)\n",
    "\n",
    "# Train the BaggingClassifier on the training data\n",
    "bagging_model_10.fit(X_train, y_train)\n",
    "\n",
    "# Predict on the testing data\n",
    "y_pred_bagging_10 = bagging_model_10.predict(X_test)\n",
    "\n",
    "# Calculate accuracy\n",
    "accuracy_bagging_10 = accuracy_score(y_test, y_pred_bagging_10)\n",
    "print(\"Bagging (10 Trees) Accuracy:\", accuracy_bagging_10)"
   ]
  },
  {
   "cell_type": "code",
   "execution_count": 44,
   "id": "athletic-guyana",
   "metadata": {},
   "outputs": [
    {
     "name": "stdout",
     "output_type": "stream",
     "text": [
      "Bagging Model Metrics (with 10 trees):\n",
      "Train Set Accuracy: 0.9979959919839679\n",
      "Train Set Specificity: 1.0\n",
      "Train Set Sensitivity (Recall): 0.9959349593495935\n",
      "Train Set Confusion Matrix:\n",
      "[[253   0]\n",
      " [  1 245]]\n",
      "\n",
      "Test Set Accuracy: 0.958139534883721\n",
      "Test Set Specificity: 0.9423076923076923\n",
      "Test Set Sensitivity (Recall): 0.972972972972973\n",
      "Test Set Confusion Matrix:\n",
      "[[ 98   6]\n",
      " [  3 108]]\n",
      "\n",
      "Random Forest Model Metrics (with chosen alpha):\n",
      "Train Set Accuracy: 0.9218436873747495\n",
      "Train Set Specificity: 0.924901185770751\n",
      "Train Set Sensitivity (Recall): 0.9186991869918699\n",
      "Train Set Confusion Matrix:\n",
      "[[234  19]\n",
      " [ 20 226]]\n",
      "\n",
      "Test Set Accuracy: 0.9255813953488372\n",
      "Test Set Specificity: 0.875\n",
      "Test Set Sensitivity (Recall): 0.972972972972973\n",
      "Test Set Confusion Matrix:\n",
      "[[ 91  13]\n",
      " [  3 108]]\n"
     ]
    }
   ],
   "source": [
    "from sklearn.metrics import accuracy_score, confusion_matrix\n",
    "\n",
    "# Calculate metrics for Bagging model\n",
    "print(\"Bagging Model Metrics (with 10 trees):\")\n",
    "# Train set metrics\n",
    "y_train_pred_bagging = bagging_model_10.predict(X_train)\n",
    "train_accuracy_bagging = accuracy_score(y_train, y_train_pred_bagging)\n",
    "tn_train_bagging, fp_train_bagging, fn_train_bagging, tp_train_bagging = confusion_matrix(y_train, y_train_pred_bagging).ravel()\n",
    "train_specificity_bagging = tn_train_bagging / (tn_train_bagging + fp_train_bagging)\n",
    "train_sensitivity_bagging = tp_train_bagging / (tp_train_bagging + fn_train_bagging)\n",
    "print(\"Train Set Accuracy:\", train_accuracy_bagging)\n",
    "print(\"Train Set Specificity:\", train_specificity_bagging)\n",
    "print(\"Train Set Sensitivity (Recall):\", train_sensitivity_bagging)\n",
    "print(\"Train Set Confusion Matrix:\")\n",
    "print(confusion_matrix(y_train, y_train_pred_bagging))\n",
    "\n",
    "# Test set metrics\n",
    "y_test_pred_bagging = bagging_model_10.predict(X_test)\n",
    "test_accuracy_bagging = accuracy_score(y_test, y_test_pred_bagging)\n",
    "tn_test_bagging, fp_test_bagging, fn_test_bagging, tp_test_bagging = confusion_matrix(y_test, y_test_pred_bagging).ravel()\n",
    "test_specificity_bagging = tn_test_bagging / (tn_test_bagging + fp_test_bagging)\n",
    "test_sensitivity_bagging = tp_test_bagging / (tp_test_bagging + fn_test_bagging)\n",
    "print(\"\\nTest Set Accuracy:\", test_accuracy_bagging)\n",
    "print(\"Test Set Specificity:\", test_specificity_bagging)\n",
    "print(\"Test Set Sensitivity (Recall):\", test_sensitivity_bagging)\n",
    "print(\"Test Set Confusion Matrix:\")\n",
    "print(confusion_matrix(y_test, y_test_pred_bagging))\n",
    "\n",
    "# Calculate metrics for Random Forest model\n",
    "print(\"\\nRandom Forest Model Metrics (with chosen alpha):\")\n",
    "# Train set metrics\n",
    "y_train_pred_rf = chosen_alpha_random_forest_model.predict(X_train)\n",
    "train_accuracy_rf = accuracy_score(y_train, y_train_pred_rf)\n",
    "tn_train_rf, fp_train_rf, fn_train_rf, tp_train_rf = confusion_matrix(y_train, y_train_pred_rf).ravel()\n",
    "train_specificity_rf = tn_train_rf / (tn_train_rf + fp_train_rf)\n",
    "train_sensitivity_rf = tp_train_rf / (tp_train_rf + fn_train_rf)\n",
    "print(\"Train Set Accuracy:\", train_accuracy_rf)\n",
    "print(\"Train Set Specificity:\", train_specificity_rf)\n",
    "print(\"Train Set Sensitivity (Recall):\", train_sensitivity_rf)\n",
    "print(\"Train Set Confusion Matrix:\")\n",
    "print(confusion_matrix(y_train, y_train_pred_rf))\n",
    "\n",
    "# Test set metrics\n",
    "y_test_pred_rf = chosen_alpha_random_forest_model.predict(X_test)\n",
    "test_accuracy_rf = accuracy_score(y_test, y_test_pred_rf)\n",
    "tn_test_rf, fp_test_rf, fn_test_rf, tp_test_rf = confusion_matrix(y_test, y_test_pred_rf).ravel()\n",
    "test_specificity_rf = tn_test_rf / (tn_test_rf + fp_test_rf)\n",
    "test_sensitivity_rf = tp_test_rf / (tp_test_rf + fn_test_rf)\n",
    "print(\"\\nTest Set Accuracy:\", test_accuracy_rf)\n",
    "print(\"Test Set Specificity:\", test_specificity_rf)\n",
    "print(\"Test Set Sensitivity (Recall):\", test_sensitivity_rf)\n",
    "print(\"Test Set Confusion Matrix:\")\n",
    "print(confusion_matrix(y_test, y_test_pred_rf))\n"
   ]
  },
  {
   "cell_type": "code",
   "execution_count": 45,
   "id": "naughty-circus",
   "metadata": {},
   "outputs": [
    {
     "data": {
      "image/png": "[encoded data removed]",
      "text/plain": [
       "<Figure size 720x432 with 1 Axes>"
      ]
     },
     "metadata": {
      "needs_background": "light"
     },
     "output_type": "display_data"
    }
   ],
   "source": [
    "import matplotlib.pyplot as plt\n",
    "\n",
    "# Get feature importances from the Random Forest model\n",
    "feature_importances = chosen_alpha_random_forest_model.feature_importances_\n",
    "\n",
    "# Get the names of the features\n",
    "feature_names = X_train.columns\n",
    "\n",
    "# Sort feature importances in descending order\n",
    "indices = feature_importances.argsort()[::-1]\n",
    "\n",
    "# Plot the feature importances\n",
    "plt.figure(figsize=(10, 6))\n",
    "plt.title(\"Feature Importances (Random Forest)\")\n",
    "plt.bar(range(X_train.shape[1]), feature_importances[indices], align=\"center\")\n",
    "plt.xticks(range(X_train.shape[1]), feature_names[indices], rotation=90)\n",
    "plt.xlabel(\"Feature\")\n",
    "plt.ylabel(\"Importance\")\n",
    "plt.tight_layout()\n",
    "plt.show()"
   ]
  },
  {
   "cell_type": "code",
   "execution_count": null,
   "id": "sunset-oregon",
   "metadata": {},
   "outputs": [],
   "source": []
  }
 ],
 "metadata": {
  "kernelspec": {
   "display_name": "Python 3",
   "language": "python",
   "name": "python3"
  },
  "language_info": {
   "codemirror_mode": {
    "name": "ipython",
    "version": 3
   },
   "file_extension": ".py",
   "mimetype": "text/x-python",
   "name": "python",
   "nbconvert_exporter": "python",
   "pygments_lexer": "ipython3",
   "version": "3.8.5"
  }
 },
 "nbformat": 4,
 "nbformat_minor": 5
}
